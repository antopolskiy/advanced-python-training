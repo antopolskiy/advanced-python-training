{
 "cells": [
  {
   "cell_type": "markdown",
   "metadata": {},
   "source": [
    "# `conda`"
   ]
  },
  {
   "cell_type": "markdown",
   "metadata": {},
   "source": [
    "You have all installed on your computers a distribution of Python called Anaconda, produced by Continuum Analytics. They have solved a very important problem for Python programmers, which is a problem of package and Python version management. Although now it is less true, for a long time several versions of Python were used in parallel, Python 2.7 and Python 3.x (as of 2018 it is 3.6). And some packages supported only Python 2.7 (which is an older verison) and others -- only Python 3.x. Most packages support both versions, although version for Python 2.7 is usually only updated to fix critical bugs. Indeed, Python project itself plans to end supporting version 2.7 in a few years, so people are actively migrating to Python 3. For us, the difference between the versions are minor, with Python 3 having much more functionality and improvements. Basically the only reason not to migrate to Python 3 is the inertia of large scale projects, which need a lot of time investiment in order to migrate without breaking anything.\n",
    "\n",
    "In any case, with different version of Python and packages, it was very difficult to troubleshoot any problems. For example you discover that a new version of some package is buggy in 1 function, for one of your application, but otherwise it is much better. Changing the version every time you run that one application is cumbersome. So what do you do? *(This is of course a very simplistic problem, in reality package management is a huge issue for professional developers, but usually not for data scientists).*\n",
    "\n",
    "The answer is -- you create virtual environments which are completely separated from each other, and you can switch from one to another. You can have different versions of packages in different environments, or, in fact, even different versions of Python. **`conda`** is a way to control these environments, and this is what we will learn in this notebook.\n",
    "\n",
    "*All of this notebook is to be done in the console. I will run some commands from the notebook using IPython magic, but many commands cannot be run like this, and I will only type them out here. You should run everything in the console (without *`!`* in the beginning).*"
   ]
  },
  {
   "cell_type": "markdown",
   "metadata": {},
   "source": [
    "# Check `conda` and examine the environments\n",
    "\n",
    "First check that `conda` is installed and works:"
   ]
  },
  {
   "cell_type": "code",
   "execution_count": 9,
   "metadata": {},
   "outputs": [
    {
     "name": "stdout",
     "output_type": "stream",
     "text": [
      "Current conda install:\r\n",
      "\r\n",
      "               platform : linux-64\r\n",
      "          conda version : 4.3.30\r\n",
      "       conda is private : False\r\n",
      "      conda-env version : 4.3.30\r\n",
      "    conda-build version : 3.0.27\r\n",
      "         python version : 3.6.3.final.0\r\n",
      "       requests version : 2.18.4\r\n",
      "       root environment : /home/sergey/anaconda3  (writable)\r\n",
      "    default environment : /home/sergey/anaconda3\r\n",
      "       envs directories : /home/sergey/anaconda3/envs\r\n",
      "                          /home/sergey/.conda/envs\r\n",
      "          package cache : /home/sergey/anaconda3/pkgs\r\n",
      "                          /home/sergey/.conda/pkgs\r\n",
      "           channel URLs : https://repo.continuum.io/pkgs/main/linux-64\r\n",
      "                          https://repo.continuum.io/pkgs/main/noarch\r\n",
      "                          https://repo.continuum.io/pkgs/free/linux-64\r\n",
      "                          https://repo.continuum.io/pkgs/free/noarch\r\n",
      "                          https://repo.continuum.io/pkgs/r/linux-64\r\n",
      "                          https://repo.continuum.io/pkgs/r/noarch\r\n",
      "                          https://repo.continuum.io/pkgs/pro/linux-64\r\n",
      "                          https://repo.continuum.io/pkgs/pro/noarch\r\n",
      "            config file : None\r\n",
      "             netrc file : None\r\n",
      "           offline mode : False\r\n",
      "             user-agent : conda/4.3.30 requests/2.18.4 CPython/3.6.3 Linux/4.4.0-128-generic debian/stretch/sid glibc/2.23    \r\n",
      "                UID:GID : 1000:1000\r\n"
     ]
    }
   ],
   "source": [
    "!conda info"
   ]
  },
  {
   "cell_type": "markdown",
   "metadata": {},
   "source": [
    "`conda` can be used both for environment management and for installing/uninstalling some packages, though last is usually done by `pip`, which has much more packages in its index. We will first learn how to use `conda` for environment management.\n",
    "\n",
    "Let's see the environments currently installed on the computer:"
   ]
  },
  {
   "cell_type": "code",
   "execution_count": 10,
   "metadata": {},
   "outputs": [
    {
     "name": "stdout",
     "output_type": "stream",
     "text": [
      "# conda environments:\r\n",
      "#\r\n",
      "py35                     /home/sergey/anaconda3/envs/py35\r\n",
      "root                  *  /home/sergey/anaconda3\r\n",
      "\r\n"
     ]
    }
   ],
   "source": [
    "!conda env list"
   ]
  },
  {
   "cell_type": "markdown",
   "metadata": {},
   "source": [
    "You will see `root` environment, which is the default environment which is created when you install Anaconda and which is filled with all the packages which come in a bundle with Anaconda.\n",
    "\n",
    "Let's see what we have installed in the root environment, in particular, which version of Python we have:"
   ]
  },
  {
   "cell_type": "code",
   "execution_count": 13,
   "metadata": {},
   "outputs": [
    {
     "name": "stdout",
     "output_type": "stream",
     "text": [
      "# packages in environment at /home/sergey/anaconda3:\n",
      "#\n",
      "ipython                   6.1.0            py36hc72a948_1  \n",
      "ipython_genutils          0.2.0            py36hb52b0d5_0  \n",
      "msgpack-python            0.4.8            py36hec4c5d1_0  \n",
      "python                    3.6.3                hc9025b9_1  \n",
      "python-dateutil           2.6.1            py36h88d3b88_1  \n"
     ]
    }
   ],
   "source": [
    "# list packages which have word \"python\" in them\n",
    "!conda list python"
   ]
  },
  {
   "cell_type": "markdown",
   "metadata": {},
   "source": [
    "# Create a new environment"
   ]
  },
  {
   "cell_type": "markdown",
   "metadata": {},
   "source": [
    "Now let's create a new environment with python of another, older, version, 2.7:\n",
    "\n",
    "    conda create --name py27 python=2.7\n",
    "    \n",
    "*(Can't be run in the notebook, requires response)*"
   ]
  },
  {
   "cell_type": "markdown",
   "metadata": {},
   "source": [
    "To switch to that environment, on Windows run:\n",
    "\n",
    "    activate py27\n",
    "    \n",
    "On MacOS/Linux run:\n",
    "\n",
    "    source activate py27\n",
    "    \n",
    "You should see the name of the environment appearing in front of the command line, like so:\n",
    "\n",
    "    (py27) sergey@IT-PARM-RES-001U:~$ \n",
    "\n",
    "Let's see what was installed in this environment:\n",
    "\n",
    "    conda list"
   ]
  },
  {
   "cell_type": "markdown",
   "metadata": {},
   "source": [
    "Not much, only the bare essentials. Let's install some packages using `pip`. They will be installed in the __activated__ environment:\n",
    "\n",
    "    pip install numpy pandas matplotlib"
   ]
  },
  {
   "cell_type": "markdown",
   "metadata": {},
   "source": [
    "Finally, if you want to work with this environment in the Jupyter Notebooks, you need to add it with another command. First install `notebook` and `ipykernel` packages (with either `conda` or `pip`, let's do `conda` this time):\n",
    "\n",
    "    conda install notebook ipykernel\n",
    "\n",
    "Then use the following command while the new environment is activate (you can set any display name, this name will be shown in Jupyter when you choose to run a notebook in this environment):\n",
    "\n",
    "    ipython kernel install --user --name py27 --display-name \"Python 2.7\"\n",
    "\n",
    "If you now go to Jupyter dashboard (where you create and open notebooks) and refresh the page, you have a new option in \"New\" notebook menu called \"Python 2.7\". Now you can create notebooks which run on Python 2.7. To run scripts with Python 2.7 you just need to activate the environment in the console and then do as you would normally do."
   ]
  },
  {
   "cell_type": "markdown",
   "metadata": {},
   "source": [
    "# Other useful commands\n",
    "\n",
    "### Clone an environment \n",
    "Imagine you want to install a package which requires a lower version of some other packages (dependency). You don't want to ruin your current environment, but you also don't want to create a new one and install everything. Just clone an existing environment and then downgrade the packages you need.\n",
    "\n",
    "    conda create --name myclone --clone myenv\n",
    "    \n",
    "NOTE: Replace `myclone` with the name of the new environment. Replace `myenv` with the name of the existing environment that you want to copy.\n",
    "\n",
    "### Remove an environment\n",
    "\n",
    "    conda remove --name myenv --all\n",
    "    \n",
    "If you want to remove the environment from Jupyter, use the following command:\n",
    "\n",
    "    jupyter kernelspec uninstall myenv\n",
    "    \n",
    "### Other sources\n",
    "\n",
    "See `conda` documentation for details: https://conda.io/docs/user-guide/index.html\n",
    "\n",
    "There is a useful cheat sheet: https://conda.io/docs/_downloads/conda-cheatsheet.pdf"
   ]
  },
  {
   "cell_type": "markdown",
   "metadata": {},
   "source": [
    "# `conda` vs `pip`\n",
    "Why are there 2 package managers? Very briefly:\n",
    "\n",
    "`pip` is the original Python package manager, and anyone can add a package to its index of packages. So it has the larger package supply.\n",
    "\n",
    "`conda` is developed to be much more that `pip`, first of all, not specific to Python. `conda` has a *curated* list of packages, few compared to `pip`, but they are tested in terms of dependencies. When you install a package from conda index, it will explicitly tell you if some of the packages need to be downgraded, and it can do it for you. It also has much better handle on removing of packages without breaking other ones (occasionally can happen with `pip`).\n",
    "\n",
    "The rule of thumb is: try to `conda install` a package first. If it doesn't find it, do a `pip install`. Either way you will most probably be fine."
   ]
  }
 ],
 "metadata": {
  "kernelspec": {
   "display_name": "Python 3.5",
   "language": "python",
   "name": "py35"
  },
  "language_info": {
   "codemirror_mode": {
    "name": "ipython",
    "version": 3
   },
   "file_extension": ".py",
   "mimetype": "text/x-python",
   "name": "python",
   "nbconvert_exporter": "python",
   "pygments_lexer": "ipython3",
   "version": "3.5.5"
  }
 },
 "nbformat": 4,
 "nbformat_minor": 2
}
