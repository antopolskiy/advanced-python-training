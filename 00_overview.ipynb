{
 "cells": [
  {
   "cell_type": "markdown",
   "metadata": {},
   "source": [
    "- git\n",
    "    - basics of git\n",
    "    - basics of working with remote repositories\n",
    "    - contributing to a project\n",
    "    \n",
    "    \n",
    "- Advanced python\n",
    "    - PEP8 and style tips\n",
    "    - IDEs (Jupyter + VSC + Sublime/Atom)\n",
    "    - numpy -- numerical computing\n",
    "    - pandas -- working with DataFrames\n",
    "    - visualization (matplotlib + seaborn)\n",
    "    - classes and methods\n",
    "    - generators\n",
    "    - working with scripts\n",
    "    - packages\n",
    "        - installation vs developer mode\n",
    "    - conda and environment manager\n",
    "    - mne -- EEG processing in Python\n",
    "    \n",
    "\n",
    "- Machine learning\n",
    "    - basic theory\n",
    "    - supervised vs unsupervised\n",
    "    - features and targets\n",
    "    - cross-validation\n",
    "    - gridsearch\n",
    "    - practice\n",
    "    - feature engineering\n",
    "    - clustering\n",
    "    - classification"
   ]
  },
  {
   "cell_type": "markdown",
   "metadata": {},
   "source": [
    "# Things to add given time\n",
    "\n",
    "Lessons to be pruned:\n",
    "- 2\n",
    "- 3\n",
    "- 4\n",
    "- 5\n",
    "- 6\n",
    "- 7\n",
    "- 8\n",
    "- 9\n",
    "- 10\n",
    "- 16\n",
    "- 17\n",
    "\n",
    "Lessons to be created or significantly improved:\n",
    "\n",
    "- 1\n",
    "- 15\n",
    "\n",
    "Exercises to be added:\n",
    "\n",
    "- 11: classes\n",
    "- 12: scripts (not required)\n",
    "- 13: modules (not required)\n",
    "\n",
    "Overall:\n",
    "- Need more focus on timeseries, such as EEG\n",
    "- test bash things on Windows\n",
    "\n",
    "About IDE:\n",
    "- study a bit VSC and show some examples of features\n",
    "- choose which features of Atom to show (git integration and packages)\n",
    "\n",
    "In tidy data:\n",
    "- explanation and examples of \"Each type of observational unit forms a table\"\n"
   ]
  },
  {
   "cell_type": "code",
   "execution_count": null,
   "metadata": {
    "collapsed": true
   },
   "outputs": [],
   "source": []
  },
  {
   "cell_type": "code",
   "execution_count": null,
   "metadata": {
    "collapsed": true
   },
   "outputs": [],
   "source": []
  },
  {
   "cell_type": "code",
   "execution_count": null,
   "metadata": {
    "collapsed": true
   },
   "outputs": [],
   "source": []
  },
  {
   "cell_type": "code",
   "execution_count": null,
   "metadata": {
    "collapsed": true
   },
   "outputs": [],
   "source": []
  },
  {
   "cell_type": "code",
   "execution_count": null,
   "metadata": {
    "collapsed": true
   },
   "outputs": [],
   "source": []
  },
  {
   "cell_type": "code",
   "execution_count": null,
   "metadata": {
    "collapsed": true
   },
   "outputs": [],
   "source": []
  },
  {
   "cell_type": "code",
   "execution_count": null,
   "metadata": {
    "collapsed": true
   },
   "outputs": [],
   "source": []
  },
  {
   "cell_type": "code",
   "execution_count": null,
   "metadata": {
    "collapsed": true
   },
   "outputs": [],
   "source": []
  }
 ],
 "metadata": {
  "kernelspec": {
   "display_name": "Python 3.5",
   "language": "python",
   "name": "py35"
  },
  "language_info": {
   "codemirror_mode": {
    "name": "ipython",
    "version": 3
   },
   "file_extension": ".py",
   "mimetype": "text/x-python",
   "name": "python",
   "nbconvert_exporter": "python",
   "pygments_lexer": "ipython3",
   "version": "3.5.5"
  }
 },
 "nbformat": 4,
 "nbformat_minor": 2
}
