{
 "cells": [
  {
   "cell_type": "markdown",
   "metadata": {
    "collapsed": true
   },
   "source": [
    "# What is a class?\n",
    "\n",
    "From Python documentation (https://docs.python.org/3/tutorial/classes.html):\n",
    "\n",
    ">Classes provide a means of bundling data and functionality together. Creating a new class creates a new type of object, allowing new instances of that type to be made. Each class instance can have attributes attached to it for maintaining its state. Class instances can also have methods (defined by its class) for modifying its state.\n",
    "\n",
    "This is a very powerful concept, especially for software development. It has its merits for data analysis as well. Let's create a simplest class."
   ]
  },
  {
   "cell_type": "code",
   "execution_count": 1,
   "metadata": {
    "collapsed": true
   },
   "outputs": [],
   "source": [
    "class MyClass:\n",
    "    \"\"\"A simple example class\"\"\"\n",
    "    i = 12345\n",
    "\n",
    "    def f(self):\n",
    "        return 'hello world'"
   ]
  },
  {
   "cell_type": "code",
   "execution_count": 2,
   "metadata": {},
   "outputs": [
    {
     "data": {
      "text/plain": [
       "__main__.MyClass"
      ]
     },
     "execution_count": 2,
     "metadata": {},
     "output_type": "execute_result"
    }
   ],
   "source": [
    "MyClass"
   ]
  },
  {
   "cell_type": "code",
   "execution_count": 3,
   "metadata": {
    "collapsed": true
   },
   "outputs": [],
   "source": [
    "a = MyClass()"
   ]
  },
  {
   "cell_type": "code",
   "execution_count": 4,
   "metadata": {},
   "outputs": [
    {
     "data": {
      "text/plain": [
       "12345"
      ]
     },
     "execution_count": 4,
     "metadata": {},
     "output_type": "execute_result"
    }
   ],
   "source": [
    "a.i"
   ]
  },
  {
   "cell_type": "code",
   "execution_count": 5,
   "metadata": {},
   "outputs": [
    {
     "data": {
      "text/plain": [
       "'hello world'"
      ]
     },
     "execution_count": 5,
     "metadata": {},
     "output_type": "execute_result"
    }
   ],
   "source": [
    "a.f()"
   ]
  },
  {
   "cell_type": "markdown",
   "metadata": {},
   "source": [
    "One might ask -- why do we even need classes? Couldn't we do the same thing by defining function `f` and assigning `i = 12345` outside the class?"
   ]
  },
  {
   "cell_type": "code",
   "execution_count": 6,
   "metadata": {
    "collapsed": true
   },
   "outputs": [],
   "source": [
    "i = 12345\n",
    "\n",
    "def f():\n",
    "    return 'hello world'"
   ]
  },
  {
   "cell_type": "code",
   "execution_count": 7,
   "metadata": {},
   "outputs": [
    {
     "name": "stdout",
     "output_type": "stream",
     "text": [
      "12345\n"
     ]
    },
    {
     "data": {
      "text/plain": [
       "'hello world'"
      ]
     },
     "execution_count": 7,
     "metadata": {},
     "output_type": "execute_result"
    }
   ],
   "source": [
    "print(i)\n",
    "f()"
   ]
  },
  {
   "cell_type": "markdown",
   "metadata": {},
   "source": [
    "It is a good question, and one answer is that with increasing number of elements (data and functions), complexity of the code will grow much more without the classes than without the classes. Indeed, sometimes a carefully created class allows to descrease the complexity of the code significantly.\n",
    "\n",
    "# Condering existing class\n",
    "\n",
    "Perhaps it is useful to look at some of the classes we have used, e.g. `pandas.DataFrame`."
   ]
  },
  {
   "cell_type": "code",
   "execution_count": 8,
   "metadata": {},
   "outputs": [
    {
     "data": {
      "text/html": [
       "<div>\n",
       "<style scoped>\n",
       "    .dataframe tbody tr th:only-of-type {\n",
       "        vertical-align: middle;\n",
       "    }\n",
       "\n",
       "    .dataframe tbody tr th {\n",
       "        vertical-align: top;\n",
       "    }\n",
       "\n",
       "    .dataframe thead th {\n",
       "        text-align: right;\n",
       "    }\n",
       "</style>\n",
       "<table border=\"1\" class=\"dataframe\">\n",
       "  <thead>\n",
       "    <tr style=\"text-align: right;\">\n",
       "      <th></th>\n",
       "      <th>treatment_a</th>\n",
       "      <th>treatment_b</th>\n",
       "    </tr>\n",
       "  </thead>\n",
       "  <tbody>\n",
       "    <tr>\n",
       "      <th>John Smith</th>\n",
       "      <td>7</td>\n",
       "      <td>2</td>\n",
       "    </tr>\n",
       "    <tr>\n",
       "      <th>Jane Doe</th>\n",
       "      <td>16</td>\n",
       "      <td>11</td>\n",
       "    </tr>\n",
       "    <tr>\n",
       "      <th>Mary Johnson</th>\n",
       "      <td>3</td>\n",
       "      <td>1</td>\n",
       "    </tr>\n",
       "  </tbody>\n",
       "</table>\n",
       "</div>"
      ],
      "text/plain": [
       "              treatment_a  treatment_b\n",
       "John Smith              7            2\n",
       "Jane Doe               16           11\n",
       "Mary Johnson            3            1"
      ]
     },
     "execution_count": 8,
     "metadata": {},
     "output_type": "execute_result"
    }
   ],
   "source": [
    "import pandas as pd\n",
    "import numpy as np\n",
    "untidy = pd.DataFrame({'treatment_a':[7, 16, 3],'treatment_b':[2,11,1]}, \n",
    "                      index=['John Smith', 'Jane Doe','Mary Johnson'])\n",
    "untidy"
   ]
  },
  {
   "cell_type": "markdown",
   "metadata": {},
   "source": [
    "We could have the same values in a list, like this:"
   ]
  },
  {
   "cell_type": "code",
   "execution_count": 9,
   "metadata": {},
   "outputs": [
    {
     "data": {
      "text/plain": [
       "[[7, 16, 3], [2, 11, 1]]"
      ]
     },
     "execution_count": 9,
     "metadata": {},
     "output_type": "execute_result"
    }
   ],
   "source": [
    "values = [[7, 16, 3],[2,11,1]]\n",
    "values"
   ]
  },
  {
   "cell_type": "markdown",
   "metadata": {},
   "source": [
    "And we could have even the labels as separate lists:"
   ]
  },
  {
   "cell_type": "code",
   "execution_count": 10,
   "metadata": {
    "collapsed": true
   },
   "outputs": [],
   "source": [
    "index = ['John Smith', 'Jane Doe','Mary Johnson']\n",
    "columns = ['treatment_a','treatment_b']"
   ]
  },
  {
   "cell_type": "markdown",
   "metadata": {},
   "source": [
    "Now, let's say we want to calculate means for each column. We could use a numpy method to do it:"
   ]
  },
  {
   "cell_type": "code",
   "execution_count": 11,
   "metadata": {},
   "outputs": [
    {
     "name": "stdout",
     "output_type": "stream",
     "text": [
      "['treatment_a', 'treatment_b'] \n",
      " [8.66666667 4.66666667]\n"
     ]
    }
   ],
   "source": [
    "print(columns, '\\n', np.mean(values, axis=1))"
   ]
  },
  {
   "cell_type": "markdown",
   "metadata": {},
   "source": [
    "And it is all fine so far. However, imagine now that we want to do other actions on the data, and we want to keep track of labels and columns. We wrote some functions, but we need to pass the `columns`, `index` and `values` every time. This is inconvenient and prone to errors.\n",
    "\n",
    "If you have data and you need to run some operations on that data, it is worth considering creating a class. Especially if you're passing the data through multiple stages of processing, like in the case of EEG processing. As an example, that is why in the `mne` library `Epochs` and `Raw` are classes, and not just `numpy` arrays. They have integrated events structure and many operations (methods) for dealing with these data.\n",
    "\n",
    "# Consider a class from an actual application\n",
    "\n",
    "Classes are one of these things which purpose and convenience is difficult to understand before facing a problem solved well by a careful introduction of a class. For this reason classes are quite difficult to teach. At the same time, since they are used everywhere, you need to understand how they work. Let's consider a class from a real application, this will let us talk through some of its elements."
   ]
  },
  {
   "cell_type": "code",
   "execution_count": 12,
   "metadata": {
    "collapsed": true
   },
   "outputs": [],
   "source": [
    "class DataQuery():\n",
    "\n",
    "    def __init__(self, fname, ix_min, ix_max):\n",
    "        self.fname = fname\n",
    "        self.ix_min = ix_min\n",
    "        self.ix_max = ix_max\n",
    "\n",
    "    def __repr__(self):\n",
    "        return 'DataQuery: {}, {:>6} -> {:>6}'.format(\n",
    "            self.fname, self.ix_min, self.ix_max)\n",
    "        \n",
    "    def get_data(self):\n",
    "        data = pd.read_csv(self.fname, header=None, index_col=0).values\n",
    "        if self.ix_min>=0 and self.ix_max>=0:\n",
    "            epoch_data = data[self.ix_min:self.ix_max+1,:].copy().T\n",
    "        elif self.ix_max<0:\n",
    "            epoch_data = np.full((data.shape[1], self.ix_max - self.ix_min + 1),\n",
    "                                 fill_value=np.nan)\n",
    "        elif self.ix_min<0:\n",
    "            epoch_data = data[:self.ix_max+1,:].copy().T\n",
    "            null_part = np.full((data.shape[1], -self.ix_min), fill_value=np.nan)\n",
    "            epoch_data = np.concatenate([null_part,epoch_data], axis=1)\n",
    "        return epoch_data"
   ]
  },
  {
   "cell_type": "markdown",
   "metadata": {},
   "source": [
    "This class implements a DataQuery, i.e. it is a way to get the data from a certain file around certain indexes. Think about it as the data for a single EEG epoch.\n",
    "\n",
    "First we create an instance of a class: a dataquery. We need to look at the method `__init__` which is the method called when the instance of a class is created. It will tell us which inputs the class requires. In our case it is `fname, ix_min, ix_max, data_fmt`. Note that this method MUST have this particular name `__init__`, and no other name, to be called when the class is created. This is an example of a group of special methods, called \"dunder methods\", which is short for \"double underscore methods\", referring to the fact that they are prefixed and postfixed by double underscore. We will see some examples of these methods in the future. But keep in mind that they always do something special and they are never intended to be called directly by the user.\n",
    "\n",
    "Let's create an instance of DataQuery."
   ]
  },
  {
   "cell_type": "code",
   "execution_count": 13,
   "metadata": {
    "collapsed": true
   },
   "outputs": [],
   "source": [
    "dq = DataQuery('data/eeg.csv', 100, 1100)"
   ]
  },
  {
   "cell_type": "markdown",
   "metadata": {},
   "source": [
    "To make sure that `__init__` method is called when the class is created, you can try to add some `print`s to it and rerun the previous line.\n",
    "\n",
    "We can now leverage on some of the functionality of the DataQuery class. For example, we can use its method `get_data()` to actually get the EEG data from the file."
   ]
  },
  {
   "cell_type": "code",
   "execution_count": 14,
   "metadata": {},
   "outputs": [
    {
     "data": {
      "text/plain": [
       "(2, 1001)"
      ]
     },
     "execution_count": 14,
     "metadata": {},
     "output_type": "execute_result"
    }
   ],
   "source": [
    "dq.get_data().shape"
   ]
  },
  {
   "cell_type": "markdown",
   "metadata": {},
   "source": [
    "It has 2 channels and 1001 points (because DataQuery implementation includes both ends of the query).\n",
    "\n",
    "Let's plot the data:"
   ]
  },
  {
   "cell_type": "code",
   "execution_count": 15,
   "metadata": {},
   "outputs": [
    {
     "data": {
      "text/plain": [
       "[<matplotlib.lines.Line2D at 0x7fcf2fb739e8>,\n",
       " <matplotlib.lines.Line2D at 0x7fcf2fb73be0>]"
      ]
     },
     "execution_count": 15,
     "metadata": {},
     "output_type": "execute_result"
    },
    {
     "data": {
      "image/png": "[encoded data removed]",
      "text/plain": [
       "<Figure size 432x288 with 1 Axes>"
      ]
     },
     "metadata": {},
     "output_type": "display_data"
    }
   ],
   "source": [
    "%matplotlib inline\n",
    "import matplotlib.pyplot as plt\n",
    "\n",
    "plt.plot(dq.get_data().T)"
   ]
  },
  {
   "cell_type": "markdown",
   "metadata": {},
   "source": [
    "There is another dunder method in the class: `__repr__`. This method allow you to create a string representation of the class, which is invoked whenever the class is printed for the user to see. This can be extremely useful for usability and debugging. In this string representation I included the file name and the indexes which are specified in the query:"
   ]
  },
  {
   "cell_type": "code",
   "execution_count": 16,
   "metadata": {},
   "outputs": [
    {
     "name": "stdout",
     "output_type": "stream",
     "text": [
      "DataQuery: data/eeg.csv,    100 ->   1100\n"
     ]
    }
   ],
   "source": [
    "print(dq)"
   ]
  },
  {
   "cell_type": "markdown",
   "metadata": {},
   "source": [
    "Now an important lesson. Why do classes decrease the complexity of the code? Because once the class is created and its functionality is implemented, you can abstract away from the low-level details (in this case, how the data is extracted) and just focus on what you need to do. \n",
    "\n",
    "I need to extract multiple epochs of the size 1001 points at various indexes. I can do it the following way."
   ]
  },
  {
   "cell_type": "code",
   "execution_count": 17,
   "metadata": {},
   "outputs": [
    {
     "name": "stdout",
     "output_type": "stream",
     "text": [
      "DataQuery: data/eeg.csv,     57 ->   1057\n",
      "DataQuery: data/eeg.csv,   3213 ->   4213\n",
      "DataQuery: data/eeg.csv,   4424 ->   5424\n",
      "DataQuery: data/eeg.csv,   6123 ->   7123\n",
      "DataQuery: data/eeg.csv,   7234 ->   8234\n"
     ]
    },
    {
     "data": {
      "text/plain": [
       "[None, None, None, None, None]"
      ]
     },
     "execution_count": 17,
     "metadata": {},
     "output_type": "execute_result"
    }
   ],
   "source": [
    "## create data queries\n",
    "# ixs of the stimulation\n",
    "ixs_stim = [57,3213,4424,6123,7234]\n",
    "win_size = 1000\n",
    "dqs = [DataQuery('data/eeg.csv',ix,ix+win_size) for ix in ixs_stim]\n",
    "# print queries for inspection\n",
    "[print(dq) for dq in dqs]"
   ]
  },
  {
   "cell_type": "code",
   "execution_count": 18,
   "metadata": {},
   "outputs": [
    {
     "data": {
      "text/plain": [
       "(5, 2, 1001)"
      ]
     },
     "execution_count": 18,
     "metadata": {},
     "output_type": "execute_result"
    }
   ],
   "source": [
    "data = np.array([dq.get_data() for dq in dqs])\n",
    "data.shape"
   ]
  },
  {
   "cell_type": "markdown",
   "metadata": {},
   "source": [
    "Just like that I can get the data for my epochs, knowing that the class will take care of data retrieval. Yes, I could do it without the introductiong of the class, but it would be much more involved, with a parameters passing from one function to another. And, more importantly, if I wanted to add some functionality, it would be simpler to do with the class."
   ]
  },
  {
   "cell_type": "markdown",
   "metadata": {},
   "source": [
    "# Inheritance\n",
    "A very important property of the classes which you need to be aware of is inheritance. The classes we created before that we created \"from scratch\", but classes can be also created on top of other classes. In this case everything that the parent class had (all attributes and methods) will be inherited by the child class. But the child class can change some of them or add new methods/attributes.\n",
    "\n",
    "Sometimes it is much more useful to subclass already existing class. For example, I really want to have a class that is similar to list, but I want to be able to reverse it easily. I can do it in the following way:"
   ]
  },
  {
   "cell_type": "code",
   "execution_count": 32,
   "metadata": {
    "collapsed": true
   },
   "outputs": [],
   "source": [
    "class ReversableList(list):\n",
    "    \n",
    "    def rev(self):\n",
    "        return self[::-1]"
   ]
  },
  {
   "cell_type": "code",
   "execution_count": 33,
   "metadata": {},
   "outputs": [
    {
     "data": {
      "text/plain": [
       "['a', 'b', 'c', 'd', 'e', 'f', 'g']"
      ]
     },
     "execution_count": 33,
     "metadata": {},
     "output_type": "execute_result"
    }
   ],
   "source": [
    "alphabet = ReversableList(['a', 'b', 'c', 'd', 'e', 'f', 'g'])\n",
    "alphabet"
   ]
  },
  {
   "cell_type": "code",
   "execution_count": 41,
   "metadata": {},
   "outputs": [
    {
     "data": {
      "text/plain": [
       "['g', 'f', 'e', 'd', 'c', 'b', 'a']"
      ]
     },
     "execution_count": 41,
     "metadata": {},
     "output_type": "execute_result"
    }
   ],
   "source": [
    "alphabet.rev()"
   ]
  },
  {
   "cell_type": "markdown",
   "metadata": {
    "collapsed": true
   },
   "source": [
    "In all other ways my `ReversableList` will behave in exactly same way as a normal `list`. E.g. it inherited method `pop` from the `list`:"
   ]
  },
  {
   "cell_type": "code",
   "execution_count": 42,
   "metadata": {},
   "outputs": [
    {
     "data": {
      "text/plain": [
       "'a'"
      ]
     },
     "execution_count": 42,
     "metadata": {},
     "output_type": "execute_result"
    }
   ],
   "source": [
    "alphabet.pop(0)"
   ]
  }
 ],
 "metadata": {
  "kernelspec": {
   "display_name": "Python 3.5",
   "language": "python",
   "name": "py35"
  },
  "language_info": {
   "codemirror_mode": {
    "name": "ipython",
    "version": 3
   },
   "file_extension": ".py",
   "mimetype": "text/x-python",
   "name": "python",
   "nbconvert_exporter": "python",
   "pygments_lexer": "ipython3",
   "version": "3.5.5"
  }
 },
 "nbformat": 4,
 "nbformat_minor": 2
}
