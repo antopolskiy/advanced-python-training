{
 "cells": [
  {
   "cell_type": "markdown",
   "metadata": {},
   "source": [
    "# PEP8 and style guidelines\n",
    "- Python is an open-source language with core developers and a community proposing and discussing features\n",
    "- Every decision in the language development is signified with a PEP (Python Enhancement Proposal) which includes the feature analysis, reasons, implementation details, sometimes also discussions. All PEPs can be viewed here: https://www.python.org/dev/peps/. This is not the documentation, but more like \"developer notes\". There is usually no reason for a user to read PEPs, except for curiosity, but it is a good example of how a long term successful open-source project is structured.\n",
    "- One exception to the rule is PEP8: https://www.python.org/dev/peps/pep-0008/. It defines the style guidelines for writing Python code, and it is worth reading. Another is PEP20: The Zen of Python (https://www.python.org/dev/peps/pep-0020/)\n",
    "- We need PEP8 to make code more standardized and more easily readable. It is not the \"absolute best\" guideline, but it is one that Python users have chosen to follow.\n",
    "- Try to follow PEP8 always in the beginning. Later, when you know it well, you will see if and where you can ignore it."
   ]
  },
  {
   "cell_type": "markdown",
   "metadata": {},
   "source": [
    "# IDEs"
   ]
  },
  {
   "cell_type": "markdown",
   "metadata": {},
   "source": [
    "# Visual Studio Code\n",
    "https://code.visualstudio.com/"
   ]
  },
  {
   "cell_type": "markdown",
   "metadata": {},
   "source": [
    "# Atom\n",
    "https://atom.io/"
   ]
  },
  {
   "cell_type": "markdown",
   "metadata": {},
   "source": [
    "# PyCharm\n",
    "https://www.jetbrains.com/pycharm/"
   ]
  },
  {
   "cell_type": "code",
   "execution_count": null,
   "metadata": {
    "collapsed": true
   },
   "outputs": [],
   "source": [
    "!ls"
   ]
  },
  {
   "cell_type": "code",
   "execution_count": null,
   "metadata": {
    "collapsed": true
   },
   "outputs": [],
   "source": [
    "%timeit"
   ]
  },
  {
   "cell_type": "code",
   "execution_count": null,
   "metadata": {
    "collapsed": true
   },
   "outputs": [],
   "source": [
    "%%writefile test_file.txt\n",
    "This file contains text."
   ]
  },
  {
   "cell_type": "code",
   "execution_count": null,
   "metadata": {
    "collapsed": true
   },
   "outputs": [],
   "source": [
    "!cat test_file.txt"
   ]
  },
  {
   "cell_type": "code",
   "execution_count": null,
   "metadata": {
    "collapsed": true
   },
   "outputs": [],
   "source": [
    "%%debug\n",
    "\n",
    "1/0"
   ]
  },
  {
   "cell_type": "markdown",
   "metadata": {},
   "source": [
    "Python debugger cheat sheet: https://github.com/nblock/pdb-cheatsheet/releases/download/v1.2/pdb-cheatsheet.pdf"
   ]
  }
 ],
 "metadata": {
  "kernelspec": {
   "display_name": "Python 3.5",
   "language": "python",
   "name": "py35"
  },
  "language_info": {
   "codemirror_mode": {
    "name": "ipython",
    "version": 3
   },
   "file_extension": ".py",
   "mimetype": "text/x-python",
   "name": "python",
   "nbconvert_exporter": "python",
   "pygments_lexer": "ipython3",
   "version": "3.5.5"
  }
 },
 "nbformat": 4,
 "nbformat_minor": 2
}
