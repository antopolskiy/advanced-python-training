{
 "cells": [
  {
   "cell_type": "markdown",
   "metadata": {},
   "source": [
    "# What is version control? Why we need it?\n",
    "\n",
    "# What is `git`?\n",
    "\n",
    "# `git` workflow diagram\n",
    "\n",
    "<img src=\"git-workflow.png\">"
   ]
  },
  {
   "cell_type": "markdown",
   "metadata": {},
   "source": [
    "Open a terminal, run \n",
    "\n",
    "    git \n",
    "    \n",
    "to see if it is already installed. Otherwise go to https://git-scm.com/downloads and download a release for your system."
   ]
  },
  {
   "cell_type": "code",
   "execution_count": 1,
   "metadata": {
    "scrolled": false
   },
   "outputs": [
    {
     "name": "stdout",
     "output_type": "stream",
     "text": [
      "usage: git [--version] [--help] [-C <path>] [-c name=value]\r\n",
      "           [--exec-path[=<path>]] [--html-path] [--man-path] [--info-path]\r\n",
      "           [-p | --paginate | --no-pager] [--no-replace-objects] [--bare]\r\n",
      "           [--git-dir=<path>] [--work-tree=<path>] [--namespace=<name>]\r\n",
      "           <command> [<args>]\r\n",
      "\r\n",
      "These are common Git commands used in various situations:\r\n",
      "\r\n",
      "start a working area (see also: git help tutorial)\r\n",
      "   clone      Clone a repository into a new directory\r\n",
      "   init       Create an empty Git repository or reinitialise an existing one\r\n",
      "\r\n",
      "work on the current change (see also: git help everyday)\r\n",
      "   add        Add file contents to the index\r\n",
      "   mv         Move or rename a file, a directory, or a symlink\r\n",
      "   reset      Reset current HEAD to the specified state\r\n",
      "   rm         Remove files from the working tree and from the index\r\n",
      "\r\n",
      "examine the history and state (see also: git help revisions)\r\n",
      "   bisect     Use binary search to find the commit that introduced a bug\r\n",
      "   grep       Print lines matching a pattern\r\n",
      "   log        Show commit logs\r\n",
      "   show       Show various types of objects\r\n",
      "   status     Show the working tree status\r\n",
      "\r\n",
      "grow, mark and tweak your common history\r\n",
      "   branch     List, create, or delete branches\r\n",
      "   checkout   Switch branches or restore working tree files\r\n",
      "   commit     Record changes to the repository\r\n",
      "   diff       Show changes between commits, commit and working tree, etc\r\n",
      "   merge      Join two or more development histories together\r\n",
      "   rebase     Forward-port local commits to the updated upstream head\r\n",
      "   tag        Create, list, delete or verify a tag object signed with GPG\r\n",
      "\r\n",
      "collaborate (see also: git help workflows)\r\n",
      "   fetch      Download objects and refs from another repository\r\n",
      "   pull       Fetch from and integrate with another repository or a local branch\r\n",
      "   push       Update remote refs along with associated objects\r\n",
      "\r\n",
      "'git help -a' and 'git help -g' list available subcommands and some\r\n",
      "concept guides. See 'git help <command>' or 'git help <concept>'\r\n",
      "to read about a specific subcommand or concept.\r\n"
     ]
    }
   ],
   "source": [
    "!git"
   ]
  },
  {
   "cell_type": "markdown",
   "metadata": {},
   "source": [
    "# Set up your credentials\n",
    "    git config --global user.email \"email\"\n",
    "    git config --global user.name \"username\""
   ]
  },
  {
   "cell_type": "code",
   "execution_count": 27,
   "metadata": {},
   "outputs": [
    {
     "name": "stdout",
     "output_type": "stream",
     "text": [
      "Initialised empty Git repository in /media/sergey/DATA/Projects/advanced-python-training/test_repo/.git/\r\n"
     ]
    }
   ],
   "source": [
    "!git init test_repo"
   ]
  },
  {
   "cell_type": "code",
   "execution_count": 28,
   "metadata": {},
   "outputs": [
    {
     "name": "stdout",
     "output_type": "stream",
     "text": [
      "/media/sergey/DATA/Projects/advanced-python-training/test_repo\n"
     ]
    }
   ],
   "source": [
    "%cd test_repo"
   ]
  },
  {
   "cell_type": "code",
   "execution_count": 29,
   "metadata": {},
   "outputs": [
    {
     "name": "stdout",
     "output_type": "stream",
     "text": [
      "On branch master\r\n",
      "\r\n",
      "Initial commit\r\n",
      "\r\n",
      "nothing to commit (create/copy files and use \"git add\" to track)\r\n"
     ]
    }
   ],
   "source": [
    "!git status"
   ]
  },
  {
   "cell_type": "code",
   "execution_count": 30,
   "metadata": {},
   "outputs": [
    {
     "name": "stdout",
     "output_type": "stream",
     "text": [
      "Writing some_text.txt\n"
     ]
    }
   ],
   "source": [
    "%%file some_text.txt\n",
    "This is a file containing some text."
   ]
  },
  {
   "cell_type": "code",
   "execution_count": 31,
   "metadata": {},
   "outputs": [
    {
     "name": "stdout",
     "output_type": "stream",
     "text": [
      "On branch master\r\n",
      "\r\n",
      "Initial commit\r\n",
      "\r\n",
      "Untracked files:\r\n",
      "  (use \"git add <file>...\" to include in what will be committed)\r\n",
      "\r\n",
      "\t\u001b[31msome_text.txt\u001b[m\r\n",
      "\r\n",
      "nothing added to commit but untracked files present (use \"git add\" to track)\r\n"
     ]
    }
   ],
   "source": [
    "!git status"
   ]
  },
  {
   "cell_type": "code",
   "execution_count": 32,
   "metadata": {
    "collapsed": true
   },
   "outputs": [],
   "source": [
    "!git add some_text.txt"
   ]
  },
  {
   "cell_type": "code",
   "execution_count": 35,
   "metadata": {},
   "outputs": [
    {
     "name": "stdout",
     "output_type": "stream",
     "text": [
      "On branch master\r\n",
      "\r\n",
      "Initial commit\r\n",
      "\r\n",
      "Changes to be committed:\r\n",
      "  (use \"git rm --cached <file>...\" to unstage)\r\n",
      "\r\n",
      "\t\u001b[32mnew file:   some_text.txt\u001b[m\r\n",
      "\r\n"
     ]
    }
   ],
   "source": [
    "!git status"
   ]
  },
  {
   "cell_type": "code",
   "execution_count": 36,
   "metadata": {},
   "outputs": [
    {
     "name": "stdout",
     "output_type": "stream",
     "text": [
      "[master (root-commit) 552f5c8] Added a txt file for testing\r\n",
      " 1 file changed, 1 insertion(+)\r\n",
      " create mode 100644 some_text.txt\r\n"
     ]
    }
   ],
   "source": [
    "!git commit -m\"Added a txt file for testing\""
   ]
  },
  {
   "cell_type": "code",
   "execution_count": 37,
   "metadata": {},
   "outputs": [
    {
     "name": "stdout",
     "output_type": "stream",
     "text": [
      "On branch master\r\n",
      "nothing to commit, working directory clean\r\n"
     ]
    }
   ],
   "source": [
    "!git status"
   ]
  },
  {
   "cell_type": "code",
   "execution_count": 38,
   "metadata": {},
   "outputs": [
    {
     "name": "stdout",
     "output_type": "stream",
     "text": [
      "\u001b[33mcommit 552f5c80e1d8d1528b6993ccdd259bf8839e29c6\u001b[m\r\n",
      "Author: santopolskiy <s.antopolskiy@camlintechnologies.com>\r\n",
      "Date:   Fri Jun 29 10:34:07 2018 +0200\r\n",
      "\r\n",
      "    Added a txt file for testing\r\n"
     ]
    }
   ],
   "source": [
    "!git log"
   ]
  },
  {
   "cell_type": "code",
   "execution_count": 43,
   "metadata": {},
   "outputs": [
    {
     "name": "stdout",
     "output_type": "stream",
     "text": [
      "Overwriting some_text.txt\n"
     ]
    }
   ],
   "source": [
    "%%file some_text.txt\n",
    "This is a file containing some text. Now I added some more text."
   ]
  },
  {
   "cell_type": "code",
   "execution_count": 45,
   "metadata": {},
   "outputs": [
    {
     "name": "stdout",
     "output_type": "stream",
     "text": [
      "On branch master\r\n",
      "Changes not staged for commit:\r\n",
      "  (use \"git add <file>...\" to update what will be committed)\r\n",
      "  (use \"git checkout -- <file>...\" to discard changes in working directory)\r\n",
      "\r\n",
      "\t\u001b[31mmodified:   some_text.txt\u001b[m\r\n",
      "\r\n",
      "no changes added to commit (use \"git add\" and/or \"git commit -a\")\r\n"
     ]
    }
   ],
   "source": [
    "!git status"
   ]
  },
  {
   "cell_type": "code",
   "execution_count": 46,
   "metadata": {},
   "outputs": [
    {
     "name": "stdout",
     "output_type": "stream",
     "text": [
      "\u001b[1mdiff --git a/some_text.txt b/some_text.txt\u001b[m\r\n",
      "\u001b[1mindex d10d321..c9c9961 100644\u001b[m\r\n",
      "\u001b[1m--- a/some_text.txt\u001b[m\r\n",
      "\u001b[1m+++ b/some_text.txt\u001b[m\r\n",
      "\u001b[36m@@ -1 +1 @@\u001b[m\r\n",
      "\u001b[31m-This is a file containing some text.\u001b[m\r\n",
      "\\ No newline at end of file\u001b[m\r\n",
      "\u001b[32m+\u001b[m\u001b[32mThis is a file containing some text. Now I added some more text.\u001b[m\r\n",
      "\\ No newline at end of file\u001b[m\r\n"
     ]
    }
   ],
   "source": [
    "!git diff"
   ]
  },
  {
   "cell_type": "code",
   "execution_count": 47,
   "metadata": {},
   "outputs": [
    {
     "name": "stdout",
     "output_type": "stream",
     "text": [
      "HEAD is now at 552f5c8 Added a txt file for testing\r\n"
     ]
    }
   ],
   "source": [
    "!git reset --hard"
   ]
  },
  {
   "cell_type": "code",
   "execution_count": 54,
   "metadata": {
    "scrolled": true
   },
   "outputs": [
    {
     "name": "stdout",
     "output_type": "stream",
     "text": [
      "This is a file containing some text."
     ]
    }
   ],
   "source": [
    "!cat some_text.txt"
   ]
  },
  {
   "cell_type": "markdown",
   "metadata": {},
   "source": [
    "# Pushing to the remote repo\n",
    "- Create an account on github.com\n",
    "- Go to Your Profile -> Repositories, click on New\n",
    "- Create a repo with name `test_repo`\n",
    "- Copy its address (Clone or download green button -> then copy the address)\n",
    "\n",
    "The run:\n",
    "\n",
    "    git remote add origin <copied address>\n",
    "    git push origin master\n",
    "    \n",
    "Enter your github credentials and if everything works, refresh the repo page and see that the files appeared there. Also take a look at \"commits\" page and see your commit message there.\n",
    "\n",
    "From now on, to push this branch you only need to type `git push`, as the address for the repo is already set up."
   ]
  },
  {
   "cell_type": "markdown",
   "metadata": {},
   "source": [
    "# Cloning a repo\n",
    "\n",
    "Go to: https://github.com/antopolskiy/advanced-python-training and copy the repo address (under green button \"Clone or download\").\n",
    "\n",
    "In the console, navigate to the folder where you want to have a directory with course materials. Then run:\n",
    "\n",
    "    git clone <repo address>\n",
    "    \n",
    "`git` will download all of the repo into a dedicated folder."
   ]
  },
  {
   "cell_type": "code",
   "execution_count": null,
   "metadata": {
    "collapsed": true
   },
   "outputs": [],
   "source": []
  },
  {
   "cell_type": "code",
   "execution_count": null,
   "metadata": {
    "collapsed": true
   },
   "outputs": [],
   "source": []
  },
  {
   "cell_type": "code",
   "execution_count": null,
   "metadata": {
    "collapsed": true
   },
   "outputs": [],
   "source": []
  },
  {
   "cell_type": "code",
   "execution_count": 39,
   "metadata": {},
   "outputs": [
    {
     "name": "stdout",
     "output_type": "stream",
     "text": [
      "Writing helloworld.py\n"
     ]
    }
   ],
   "source": [
    "%%file helloworld.py\n",
    "print('Hello World!')"
   ]
  },
  {
   "cell_type": "code",
   "execution_count": 41,
   "metadata": {},
   "outputs": [
    {
     "name": "stdout",
     "output_type": "stream",
     "text": [
      "On branch master\r\n",
      "Untracked files:\r\n",
      "  (use \"git add <file>...\" to include in what will be committed)\r\n",
      "\r\n",
      "\t\u001b[31mhelloworld.py\u001b[m\r\n",
      "\r\n",
      "nothing added to commit but untracked files present (use \"git add\" to track)\r\n"
     ]
    }
   ],
   "source": [
    "!git status"
   ]
  },
  {
   "cell_type": "code",
   "execution_count": null,
   "metadata": {
    "collapsed": true
   },
   "outputs": [],
   "source": [
    "!git status"
   ]
  },
  {
   "cell_type": "code",
   "execution_count": null,
   "metadata": {
    "collapsed": true
   },
   "outputs": [],
   "source": []
  },
  {
   "cell_type": "code",
   "execution_count": null,
   "metadata": {
    "collapsed": true
   },
   "outputs": [],
   "source": []
  },
  {
   "cell_type": "code",
   "execution_count": null,
   "metadata": {
    "collapsed": true
   },
   "outputs": [],
   "source": []
  },
  {
   "cell_type": "markdown",
   "metadata": {},
   "source": [
    "# Basics\n",
    "\n",
    "Create a folder, open a terminal in that folder, run:\n",
    "\n",
    "    git init\n",
    "    \n",
    "This will create a repo. It is nothing but a collection of files which have some meta information. Run:\n",
    "\n",
    "    git status\n",
    "    \n",
    "This brings up the status of the repository: if there are changes which were made since the last `commit`.\n",
    "\n",
    "Create a file ...\n",
    "\n",
    "Stage\n",
    "\n",
    "Commit\n",
    "\n",
    "Reset"
   ]
  },
  {
   "cell_type": "markdown",
   "metadata": {},
   "source": [
    "# Remote repositories\n",
    "\n",
    "GitHub and other platforms\n",
    "\n",
    "Creating a remote repo \n",
    "\n",
    "Adding existing repo (https://help.github.com/articles/adding-an-existing-project-to-github-using-the-command-line/)\n",
    "\n",
    "Cloning a repo\n",
    "\n",
    "Pushing"
   ]
  },
  {
   "cell_type": "markdown",
   "metadata": {},
   "source": [
    "# Branches\n",
    "\n",
    "Why we need branches?\n",
    "\n",
    "    git branch\n",
    "    \n",
    "    git checkout\n",
    "    \n",
    "    git merge"
   ]
  },
  {
   "cell_type": "markdown",
   "metadata": {},
   "source": [
    "# Using the power of version control\n",
    "\n",
    "Navigating the commit tree\n",
    "\n",
    "    git log\n",
    "    \n",
    "Look at the log diagram\n",
    "    \n",
    "Check out commits, creating branches from commits"
   ]
  },
  {
   "cell_type": "markdown",
   "metadata": {},
   "source": [
    "# Contributing to an open-source project\n",
    "\n",
    "Forking\n",
    "\n",
    "Submitting a pull request"
   ]
  },
  {
   "cell_type": "code",
   "execution_count": null,
   "metadata": {
    "collapsed": true
   },
   "outputs": [],
   "source": []
  },
  {
   "cell_type": "code",
   "execution_count": null,
   "metadata": {
    "collapsed": true
   },
   "outputs": [],
   "source": []
  },
  {
   "cell_type": "code",
   "execution_count": null,
   "metadata": {
    "collapsed": true
   },
   "outputs": [],
   "source": []
  },
  {
   "cell_type": "code",
   "execution_count": null,
   "metadata": {
    "collapsed": true
   },
   "outputs": [],
   "source": []
  }
 ],
 "metadata": {
  "kernelspec": {
   "display_name": "Python 3.5",
   "language": "python",
   "name": "py35"
  },
  "language_info": {
   "codemirror_mode": {
    "name": "ipython",
    "version": 3
   },
   "file_extension": ".py",
   "mimetype": "text/x-python",
   "name": "python",
   "nbconvert_exporter": "python",
   "pygments_lexer": "ipython3",
   "version": "3.5.5"
  }
 },
 "nbformat": 4,
 "nbformat_minor": 2
}
