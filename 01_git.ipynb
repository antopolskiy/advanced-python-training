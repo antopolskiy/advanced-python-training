{
 "cells": [
  {
   "cell_type": "markdown",
   "metadata": {},
   "source": [
    "# What is version control? Why we need it?\n",
    "- Keeps track of all changes in an organized way\n",
    "- A must for collaboration\n",
    "\n",
    "# What is `git`? \n",
    "\n",
    "# How does it work?\n",
    "- Saves changes\n",
    "- Changes the file system\n",
    "- History cannot be re-written\n",
    "\n",
    "# `git` workflow diagram\n",
    "\n",
    "<img src=\"img/git-workflow.png\">"
   ]
  },
  {
   "cell_type": "markdown",
   "metadata": {},
   "source": [
    "Open a terminal, run \n",
    "\n",
    "    git \n",
    "    \n",
    "to see if it is already installed. Otherwise go to https://git-scm.com/downloads and download a release for your system."
   ]
  },
  {
   "cell_type": "code",
   "execution_count": 1,
   "metadata": {
    "scrolled": false
   },
   "outputs": [
    {
     "name": "stdout",
     "output_type": "stream",
     "text": [
      "usage: git [--version] [--help] [-C <path>] [-c name=value]\r\n",
      "           [--exec-path[=<path>]] [--html-path] [--man-path] [--info-path]\r\n",
      "           [-p | --paginate | --no-pager] [--no-replace-objects] [--bare]\r\n",
      "           [--git-dir=<path>] [--work-tree=<path>] [--namespace=<name>]\r\n",
      "           <command> [<args>]\r\n",
      "\r\n",
      "These are common Git commands used in various situations:\r\n",
      "\r\n",
      "start a working area (see also: git help tutorial)\r\n",
      "   clone      Clone a repository into a new directory\r\n",
      "   init       Create an empty Git repository or reinitialise an existing one\r\n",
      "\r\n",
      "work on the current change (see also: git help everyday)\r\n",
      "   add        Add file contents to the index\r\n",
      "   mv         Move or rename a file, a directory, or a symlink\r\n",
      "   reset      Reset current HEAD to the specified state\r\n",
      "   rm         Remove files from the working tree and from the index\r\n",
      "\r\n",
      "examine the history and state (see also: git help revisions)\r\n",
      "   bisect     Use binary search to find the commit that introduced a bug\r\n",
      "   grep       Print lines matching a pattern\r\n",
      "   log        Show commit logs\r\n",
      "   show       Show various types of objects\r\n",
      "   status     Show the working tree status\r\n",
      "\r\n",
      "grow, mark and tweak your common history\r\n",
      "   branch     List, create, or delete branches\r\n",
      "   checkout   Switch branches or restore working tree files\r\n",
      "   commit     Record changes to the repository\r\n",
      "   diff       Show changes between commits, commit and working tree, etc\r\n",
      "   merge      Join two or more development histories together\r\n",
      "   rebase     Forward-port local commits to the updated upstream head\r\n",
      "   tag        Create, list, delete or verify a tag object signed with GPG\r\n",
      "\r\n",
      "collaborate (see also: git help workflows)\r\n",
      "   fetch      Download objects and refs from another repository\r\n",
      "   pull       Fetch from and integrate with another repository or a local branch\r\n",
      "   push       Update remote refs along with associated objects\r\n",
      "\r\n",
      "'git help -a' and 'git help -g' list available subcommands and some\r\n",
      "concept guides. See 'git help <command>' or 'git help <concept>'\r\n",
      "to read about a specific subcommand or concept.\r\n"
     ]
    }
   ],
   "source": [
    "!git"
   ]
  },
  {
   "cell_type": "markdown",
   "metadata": {},
   "source": [
    "# Set up your credentials\n",
    "    git config --global user.email \"email\"\n",
    "    git config --global user.name \"username\""
   ]
  },
  {
   "cell_type": "markdown",
   "metadata": {},
   "source": [
    "# Create a repo"
   ]
  },
  {
   "cell_type": "markdown",
   "metadata": {},
   "source": [
    "`git init` creates a repo in the current folder. A repo is essentially a folder with a collection of certain files, which save some `git`-related information."
   ]
  },
  {
   "cell_type": "code",
   "execution_count": 27,
   "metadata": {},
   "outputs": [
    {
     "name": "stdout",
     "output_type": "stream",
     "text": [
      "Initialised empty Git repository in /media/sergey/DATA/Projects/advanced-python-training/test_repo/.git/\r\n"
     ]
    }
   ],
   "source": [
    "!git init test_repo"
   ]
  },
  {
   "cell_type": "code",
   "execution_count": 28,
   "metadata": {},
   "outputs": [
    {
     "name": "stdout",
     "output_type": "stream",
     "text": [
      "/media/sergey/DATA/Projects/advanced-python-training/test_repo\n"
     ]
    }
   ],
   "source": [
    "%cd test_repo"
   ]
  },
  {
   "cell_type": "markdown",
   "metadata": {},
   "source": [
    "`git status` is a command which will tell you if there are any files changed since the last commit (last saved state of the repo)"
   ]
  },
  {
   "cell_type": "code",
   "execution_count": 29,
   "metadata": {},
   "outputs": [
    {
     "name": "stdout",
     "output_type": "stream",
     "text": [
      "On branch master\r\n",
      "\r\n",
      "Initial commit\r\n",
      "\r\n",
      "nothing to commit (create/copy files and use \"git add\" to track)\r\n"
     ]
    }
   ],
   "source": [
    "!git status"
   ]
  },
  {
   "cell_type": "markdown",
   "metadata": {},
   "source": [
    "Create a file `some_text.txt` inside the repo folder"
   ]
  },
  {
   "cell_type": "code",
   "execution_count": 30,
   "metadata": {},
   "outputs": [
    {
     "name": "stdout",
     "output_type": "stream",
     "text": [
      "Writing some_text.txt\n"
     ]
    }
   ],
   "source": [
    "%%file some_text.txt\n",
    "This is a file containing some text."
   ]
  },
  {
   "cell_type": "markdown",
   "metadata": {},
   "source": [
    "Now you can see that the file is changed"
   ]
  },
  {
   "cell_type": "code",
   "execution_count": 31,
   "metadata": {},
   "outputs": [
    {
     "name": "stdout",
     "output_type": "stream",
     "text": [
      "On branch master\r\n",
      "\r\n",
      "Initial commit\r\n",
      "\r\n",
      "Untracked files:\r\n",
      "  (use \"git add <file>...\" to include in what will be committed)\r\n",
      "\r\n",
      "\t\u001b[31msome_text.txt\u001b[m\r\n",
      "\r\n",
      "nothing added to commit but untracked files present (use \"git add\" to track)\r\n"
     ]
    }
   ],
   "source": [
    "!git status"
   ]
  },
  {
   "cell_type": "markdown",
   "metadata": {},
   "source": [
    "To commit this change to the project, you first need to \"stage\" the change using `git add`. You can add separate files (or folders) or all changes by using a dot: `git add .`"
   ]
  },
  {
   "cell_type": "code",
   "execution_count": 32,
   "metadata": {
    "collapsed": true
   },
   "outputs": [],
   "source": [
    "!git add some_text.txt"
   ]
  },
  {
   "cell_type": "code",
   "execution_count": 35,
   "metadata": {},
   "outputs": [
    {
     "name": "stdout",
     "output_type": "stream",
     "text": [
      "On branch master\r\n",
      "\r\n",
      "Initial commit\r\n",
      "\r\n",
      "Changes to be committed:\r\n",
      "  (use \"git rm --cached <file>...\" to unstage)\r\n",
      "\r\n",
      "\t\u001b[32mnew file:   some_text.txt\u001b[m\r\n",
      "\r\n"
     ]
    }
   ],
   "source": [
    "!git status"
   ]
  },
  {
   "cell_type": "markdown",
   "metadata": {},
   "source": [
    "Then you can commit the change. Always add a commit message to the change, describing, as best you can, the changes you made in this commit."
   ]
  },
  {
   "cell_type": "code",
   "execution_count": 36,
   "metadata": {},
   "outputs": [
    {
     "name": "stdout",
     "output_type": "stream",
     "text": [
      "[master (root-commit) 552f5c8] Added a txt file for testing\r\n",
      " 1 file changed, 1 insertion(+)\r\n",
      " create mode 100644 some_text.txt\r\n"
     ]
    }
   ],
   "source": [
    "!git commit -m\"Added a txt file for testing\""
   ]
  },
  {
   "cell_type": "code",
   "execution_count": 37,
   "metadata": {},
   "outputs": [
    {
     "name": "stdout",
     "output_type": "stream",
     "text": [
      "On branch master\r\n",
      "nothing to commit, working directory clean\r\n"
     ]
    }
   ],
   "source": [
    "!git status"
   ]
  },
  {
   "cell_type": "markdown",
   "metadata": {},
   "source": [
    "`git log` will print out the history of commits in this project. Use flag `-n <number>` to specify the number of commits to display."
   ]
  },
  {
   "cell_type": "code",
   "execution_count": 38,
   "metadata": {},
   "outputs": [
    {
     "name": "stdout",
     "output_type": "stream",
     "text": [
      "\u001b[33mcommit 552f5c80e1d8d1528b6993ccdd259bf8839e29c6\u001b[m\r\n",
      "Author: santopolskiy <s.antopolskiy@camlintechnologies.com>\r\n",
      "Date:   Fri Jun 29 10:34:07 2018 +0200\r\n",
      "\r\n",
      "    Added a txt file for testing\r\n"
     ]
    }
   ],
   "source": [
    "!git log"
   ]
  },
  {
   "cell_type": "markdown",
   "metadata": {},
   "source": [
    "Let's modify the file we had:"
   ]
  },
  {
   "cell_type": "code",
   "execution_count": 43,
   "metadata": {},
   "outputs": [
    {
     "name": "stdout",
     "output_type": "stream",
     "text": [
      "Overwriting some_text.txt\n"
     ]
    }
   ],
   "source": [
    "%%file some_text.txt\n",
    "This is a file containing some text. Now I added some more text."
   ]
  },
  {
   "cell_type": "markdown",
   "metadata": {},
   "source": [
    "Checking the status we can see that git detected the change:"
   ]
  },
  {
   "cell_type": "code",
   "execution_count": 45,
   "metadata": {},
   "outputs": [
    {
     "name": "stdout",
     "output_type": "stream",
     "text": [
      "On branch master\r\n",
      "Changes not staged for commit:\r\n",
      "  (use \"git add <file>...\" to update what will be committed)\r\n",
      "  (use \"git checkout -- <file>...\" to discard changes in working directory)\r\n",
      "\r\n",
      "\t\u001b[31mmodified:   some_text.txt\u001b[m\r\n",
      "\r\n",
      "no changes added to commit (use \"git add\" and/or \"git commit -a\")\r\n"
     ]
    }
   ],
   "source": [
    "!git status"
   ]
  },
  {
   "cell_type": "markdown",
   "metadata": {},
   "source": [
    "`git diff` can be used to examine the exact lines changed in each file."
   ]
  },
  {
   "cell_type": "code",
   "execution_count": 46,
   "metadata": {},
   "outputs": [
    {
     "name": "stdout",
     "output_type": "stream",
     "text": [
      "\u001b[1mdiff --git a/some_text.txt b/some_text.txt\u001b[m\r\n",
      "\u001b[1mindex d10d321..c9c9961 100644\u001b[m\r\n",
      "\u001b[1m--- a/some_text.txt\u001b[m\r\n",
      "\u001b[1m+++ b/some_text.txt\u001b[m\r\n",
      "\u001b[36m@@ -1 +1 @@\u001b[m\r\n",
      "\u001b[31m-This is a file containing some text.\u001b[m\r\n",
      "\\ No newline at end of file\u001b[m\r\n",
      "\u001b[32m+\u001b[m\u001b[32mThis is a file containing some text. Now I added some more text.\u001b[m\r\n",
      "\\ No newline at end of file\u001b[m\r\n"
     ]
    }
   ],
   "source": [
    "!git diff"
   ]
  },
  {
   "cell_type": "markdown",
   "metadata": {},
   "source": [
    "You can commit this change by adding it first and then using the commit operation. This will add another step in the chain of commits. However, if you don't like this change and want to return to the previous step, you can use `git reset --hard`. Hard reset discards all the changes until the last commit, so be careful. You can also use `git reset` to unstage the changes you staged before."
   ]
  },
  {
   "cell_type": "code",
   "execution_count": 47,
   "metadata": {},
   "outputs": [
    {
     "name": "stdout",
     "output_type": "stream",
     "text": [
      "HEAD is now at 552f5c8 Added a txt file for testing\r\n"
     ]
    }
   ],
   "source": [
    "!git reset --hard"
   ]
  },
  {
   "cell_type": "markdown",
   "metadata": {},
   "source": [
    "Look at the files we just changed and see that the change was reverted. (`cat` is a Shell command to print out the contents of a file)"
   ]
  },
  {
   "cell_type": "code",
   "execution_count": 54,
   "metadata": {
    "scrolled": true
   },
   "outputs": [
    {
     "name": "stdout",
     "output_type": "stream",
     "text": [
      "This is a file containing some text."
     ]
    }
   ],
   "source": [
    "!cat some_text.txt"
   ]
  },
  {
   "cell_type": "markdown",
   "metadata": {},
   "source": [
    "# Pushing to the remote repo\n",
    "- Create an account on github.com\n",
    "- Go to Your Profile -> Repositories, click on New\n",
    "- Create a repo with name `test_repo`\n",
    "- Copy its address (Clone or download green button -> then copy the address)\n",
    "\n",
    "Then run:\n",
    "\n",
    "    git remote add origin <copied address>\n",
    "    git push origin master\n",
    "    \n",
    "Enter your github credentials and if everything works, refresh the repo page and see that the files appeared there. Also take a look at \"commits\" page and see your commit message there.\n",
    "\n",
    "From now on, to push this branch you only need to type `git push`, as the address for the repo is already set up."
   ]
  },
  {
   "cell_type": "markdown",
   "metadata": {},
   "source": [
    "# Cloning a repo\n",
    "\n",
    "Go to: https://github.com/antopolskiy/advanced-python-training and copy the repo address (under green button \"Clone or download\").\n",
    "\n",
    "In the console, navigate to the folder where you want to have a directory with course materials. Then run:\n",
    "\n",
    "    git clone <repo address>\n",
    "    \n",
    "This will download all of the repo into a dedicated folder.\n",
    "\n",
    "*(Now you can run *`jupyter notebook`* in the same console and open this notebook for yourself)*"
   ]
  },
  {
   "cell_type": "markdown",
   "metadata": {},
   "source": [
    "You now know how to:\n",
    "\n",
    "- create a new repo\n",
    "- commit files to the repo, adding useful commit messages about the changes\n",
    "- connect that repo to the remote repo on your github account and push updates there\n",
    "- look at the changes you made since the last commit\n",
    "- reset unwanted (e.g. temporary) changes before they are commited\n",
    "- clone another remote repository\n",
    "\n",
    ">*Note that instead of creating a repo locally with* `git init` *and then connecting it to the existing repo on Github, you can create a repo on Github and then clone it. Then remote address will be set up automatically.*"
   ]
  },
  {
   "cell_type": "markdown",
   "metadata": {},
   "source": [
    "# `git` collaboration workflow"
   ]
  },
  {
   "cell_type": "markdown",
   "metadata": {},
   "source": [
    "### Branches\n",
    "\n",
    "Why we need branches?"
   ]
  },
  {
   "cell_type": "markdown",
   "metadata": {},
   "source": [
    "Create a new branch. The new branch will be created from the current branch, i.e. it will be a copy of the current branch. Now you are on a `master` branch."
   ]
  },
  {
   "cell_type": "code",
   "execution_count": 57,
   "metadata": {
    "collapsed": true
   },
   "outputs": [],
   "source": [
    "!git branch test_branch"
   ]
  },
  {
   "cell_type": "markdown",
   "metadata": {},
   "source": [
    "To switch to the new branch, use `git checkout <branch name>`"
   ]
  },
  {
   "cell_type": "code",
   "execution_count": 59,
   "metadata": {},
   "outputs": [
    {
     "name": "stdout",
     "output_type": "stream",
     "text": [
      "Switched to branch 'test_branch'\r\n"
     ]
    }
   ],
   "source": [
    "!git checkout test_branch"
   ]
  },
  {
   "cell_type": "markdown",
   "metadata": {},
   "source": [
    "Let's create a new file on that branch"
   ]
  },
  {
   "cell_type": "code",
   "execution_count": 60,
   "metadata": {},
   "outputs": [
    {
     "name": "stdout",
     "output_type": "stream",
     "text": [
      "Writing helloworld.py\n"
     ]
    }
   ],
   "source": [
    "%%writefile helloworld.py\n",
    "print('Hello World!')"
   ]
  },
  {
   "cell_type": "code",
   "execution_count": 61,
   "metadata": {},
   "outputs": [
    {
     "name": "stdout",
     "output_type": "stream",
     "text": [
      "On branch test_branch\r\n",
      "Untracked files:\r\n",
      "  (use \"git add <file>...\" to include in what will be committed)\r\n",
      "\r\n",
      "\t\u001b[31mhelloworld.py\u001b[m\r\n",
      "\r\n",
      "nothing added to commit but untracked files present (use \"git add\" to track)\r\n"
     ]
    }
   ],
   "source": [
    "!git status"
   ]
  },
  {
   "cell_type": "code",
   "execution_count": 62,
   "metadata": {
    "collapsed": true
   },
   "outputs": [],
   "source": [
    "!git add ."
   ]
  },
  {
   "cell_type": "code",
   "execution_count": 63,
   "metadata": {},
   "outputs": [
    {
     "name": "stdout",
     "output_type": "stream",
     "text": [
      "[test_branch c863e0d] added helloworld.py\r\n",
      " 1 file changed, 1 insertion(+)\r\n",
      " create mode 100644 helloworld.py\r\n"
     ]
    }
   ],
   "source": [
    "!git commit -m\"added helloworld.py\""
   ]
  },
  {
   "cell_type": "markdown",
   "metadata": {},
   "source": [
    "When you first push a new brach to the remote repo, you need to specify a remote address (which repo and the name of the remote branch) with which this new branch is associated. In our case we just have 1 remote connection called `origin` and the name of the remote branch is the same as the local branch (this is usually the case)."
   ]
  },
  {
   "cell_type": "code",
   "execution_count": 81,
   "metadata": {},
   "outputs": [
    {
     "name": "stdout",
     "output_type": "stream",
     "text": [
      "Everything up-to-date\r\n"
     ]
    }
   ],
   "source": [
    "!git push origin test_branch"
   ]
  },
  {
   "cell_type": "markdown",
   "metadata": {},
   "source": [
    "On Github, examine that you have the new branch available.\n",
    "\n",
    "After you have finished developing a feature on that branch, you can merge it to the `master` *(in big projects usually there is an additional `devel` branch, to which you need to merge first, and `master` is only for stable versions)*. You can do it locally or on Github, let's do locally. Switch to the `master` branch:"
   ]
  },
  {
   "cell_type": "markdown",
   "metadata": {},
   "source": [
    "`git merge` will merge the branch you specified into the **current** branch you're on. If we want to merge test_branch into master, we need to switch to master first:"
   ]
  },
  {
   "cell_type": "code",
   "execution_count": 83,
   "metadata": {},
   "outputs": [
    {
     "name": "stdout",
     "output_type": "stream",
     "text": [
      "Switched to branch 'master'\r\n"
     ]
    }
   ],
   "source": [
    "!git checkout master"
   ]
  },
  {
   "cell_type": "code",
   "execution_count": 84,
   "metadata": {},
   "outputs": [
    {
     "name": "stdout",
     "output_type": "stream",
     "text": [
      "Updating 552f5c8..c863e0d\r\n",
      "Fast-forward\r\n",
      " helloworld.py | 1 \u001b[32m+\u001b[m\r\n",
      " 1 file changed, 1 insertion(+)\r\n",
      " create mode 100644 helloworld.py\r\n"
     ]
    }
   ],
   "source": [
    "!git merge test_branch"
   ]
  },
  {
   "cell_type": "code",
   "execution_count": 86,
   "metadata": {},
   "outputs": [
    {
     "name": "stdout",
     "output_type": "stream",
     "text": [
      "\u001b[33mcommit c863e0d2ff2390ae65e25884860da3d3ea0f0313\u001b[m\r\n",
      "Author: santopolskiy <s.antopolskiy@camlintechnologies.com>\r\n",
      "Date:   Fri Jun 29 13:09:48 2018 +0200\r\n",
      "\r\n",
      "    added helloworld.py\r\n",
      "\r\n",
      "\u001b[33mcommit 552f5c80e1d8d1528b6993ccdd259bf8839e29c6\u001b[m\r\n",
      "Author: santopolskiy <s.antopolskiy@camlintechnologies.com>\r\n",
      "Date:   Fri Jun 29 10:34:07 2018 +0200\r\n",
      "\r\n",
      "    Added a txt file for testing\r\n"
     ]
    }
   ],
   "source": [
    "!git log"
   ]
  },
  {
   "cell_type": "markdown",
   "metadata": {},
   "source": [
    "This is a super-easy merge, because the changes on the branches are not conflicting, in fact they are to completely different files. But what happens if the changes are to the existing files or conflicting with other branches?\n",
    "\n",
    "In the simple cases, `git` will try to merge the changes together. For example, let's make a change on our test branch to the original `.txt` file:"
   ]
  },
  {
   "cell_type": "code",
   "execution_count": 94,
   "metadata": {},
   "outputs": [
    {
     "name": "stdout",
     "output_type": "stream",
     "text": [
      "Switched to branch 'test_branch'\r\n"
     ]
    }
   ],
   "source": [
    "!git checkout test_branch"
   ]
  },
  {
   "cell_type": "code",
   "execution_count": 95,
   "metadata": {},
   "outputs": [
    {
     "name": "stdout",
     "output_type": "stream",
     "text": [
      "Overwriting some_text.txt\n"
     ]
    }
   ],
   "source": [
    "%%file some_text.txt\n",
    "I changed the content of the file!"
   ]
  },
  {
   "cell_type": "code",
   "execution_count": 96,
   "metadata": {
    "collapsed": true
   },
   "outputs": [],
   "source": [
    "!git add ."
   ]
  },
  {
   "cell_type": "code",
   "execution_count": 97,
   "metadata": {},
   "outputs": [
    {
     "name": "stdout",
     "output_type": "stream",
     "text": [
      "[test_branch a34defa] changes to the txt file\r\n",
      " 1 file changed, 1 insertion(+), 1 deletion(-)\r\n"
     ]
    }
   ],
   "source": [
    "!git commit -m\"changes to the txt file\""
   ]
  },
  {
   "cell_type": "code",
   "execution_count": 98,
   "metadata": {},
   "outputs": [
    {
     "name": "stdout",
     "output_type": "stream",
     "text": [
      "Switched to branch 'master'\r\n"
     ]
    }
   ],
   "source": [
    "!git checkout master"
   ]
  },
  {
   "cell_type": "code",
   "execution_count": 99,
   "metadata": {},
   "outputs": [
    {
     "name": "stdout",
     "output_type": "stream",
     "text": [
      "Updating 8a8f5df..a34defa\r\n",
      "Fast-forward\r\n",
      " some_text.txt | 2 \u001b[32m+\u001b[m\u001b[31m-\u001b[m\r\n",
      " 1 file changed, 1 insertion(+), 1 deletion(-)\r\n"
     ]
    }
   ],
   "source": [
    "!git merge test_branch"
   ]
  },
  {
   "cell_type": "markdown",
   "metadata": {},
   "source": [
    "Essentially we didn't even notice this merge, because `git` knows the dates of all commits and it knows that there were no changes on the `master` which we didn't see. Therefore it assumes that we are aware of the fact that we deleted the content and we did it willingly.\n",
    "\n",
    "Another scenario: there were some changes on the `master` which conflict with the `test_branch`. This often happens if you work with other people, who will merge their changes into `master`."
   ]
  },
  {
   "cell_type": "code",
   "execution_count": 105,
   "metadata": {},
   "outputs": [
    {
     "name": "stdout",
     "output_type": "stream",
     "text": [
      "Overwriting some_text.txt\n"
     ]
    }
   ],
   "source": [
    "%%file some_text.txt\n",
    "This is the master version of the .txt file"
   ]
  },
  {
   "cell_type": "code",
   "execution_count": 107,
   "metadata": {},
   "outputs": [
    {
     "name": "stdout",
     "output_type": "stream",
     "text": [
      "[master d184f45] changes to the txt file\r\n",
      " 1 file changed, 1 insertion(+), 1 deletion(-)\r\n"
     ]
    }
   ],
   "source": [
    "!git add .\n",
    "!git commit -m\"changes to the txt file\""
   ]
  },
  {
   "cell_type": "code",
   "execution_count": 108,
   "metadata": {},
   "outputs": [
    {
     "name": "stdout",
     "output_type": "stream",
     "text": [
      "Switched to branch 'test_branch'\r\n"
     ]
    }
   ],
   "source": [
    "!git checkout test_branch"
   ]
  },
  {
   "cell_type": "code",
   "execution_count": 109,
   "metadata": {},
   "outputs": [
    {
     "name": "stdout",
     "output_type": "stream",
     "text": [
      "Overwriting some_text.txt\n"
     ]
    }
   ],
   "source": [
    "%%file some_text.txt\n",
    "This is the test_branch version of the .txt file"
   ]
  },
  {
   "cell_type": "code",
   "execution_count": 110,
   "metadata": {},
   "outputs": [
    {
     "name": "stdout",
     "output_type": "stream",
     "text": [
      "[test_branch c7b1a8d] changes to the txt file\r\n",
      " 1 file changed, 1 insertion(+), 1 deletion(-)\r\n"
     ]
    }
   ],
   "source": [
    "!git add .\n",
    "!git commit -m\"changes to the txt file\""
   ]
  },
  {
   "cell_type": "code",
   "execution_count": 111,
   "metadata": {},
   "outputs": [
    {
     "name": "stdout",
     "output_type": "stream",
     "text": [
      "Switched to branch 'master'\r\n"
     ]
    }
   ],
   "source": [
    "!git checkout master"
   ]
  },
  {
   "cell_type": "code",
   "execution_count": 112,
   "metadata": {},
   "outputs": [
    {
     "name": "stdout",
     "output_type": "stream",
     "text": [
      "Auto-merging some_text.txt\r\n",
      "CONFLICT (content): Merge conflict in some_text.txt\r\n",
      "Automatic merge failed; fix conflicts and then commit the result.\r\n"
     ]
    }
   ],
   "source": [
    "!git merge test_branch"
   ]
  },
  {
   "cell_type": "code",
   "execution_count": 113,
   "metadata": {},
   "outputs": [
    {
     "name": "stdout",
     "output_type": "stream",
     "text": [
      "On branch master\r\n",
      "You have unmerged paths.\r\n",
      "  (fix conflicts and run \"git commit\")\r\n",
      "\r\n",
      "Unmerged paths:\r\n",
      "  (use \"git add <file>...\" to mark resolution)\r\n",
      "\r\n",
      "\t\u001b[31mboth modified:   some_text.txt\u001b[m\r\n",
      "\r\n",
      "no changes added to commit (use \"git add\" and/or \"git commit -a\")\r\n"
     ]
    }
   ],
   "source": [
    "!git status"
   ]
  },
  {
   "cell_type": "markdown",
   "metadata": {},
   "source": [
    "Open `some_text.txt` file, you should see this:"
   ]
  },
  {
   "cell_type": "code",
   "execution_count": 114,
   "metadata": {},
   "outputs": [
    {
     "name": "stdout",
     "output_type": "stream",
     "text": [
      "<<<<<<< HEAD\r\n",
      "This is the master version of the .txt file\r\n",
      "=======\r\n",
      "This is the test_branch version of the .txt file\r\n",
      ">>>>>>> test_branch\r\n"
     ]
    }
   ],
   "source": [
    "cat some_text.txt"
   ]
  },
  {
   "cell_type": "markdown",
   "metadata": {},
   "source": [
    "This shows you both versions and it asks you to resolve the conflict. Basically, just make the file look like you want to look after merge. In my case I want not to discard any of the content, but I want both strings to remain, so I change the file like this:"
   ]
  },
  {
   "cell_type": "code",
   "execution_count": 115,
   "metadata": {},
   "outputs": [
    {
     "name": "stdout",
     "output_type": "stream",
     "text": [
      "Overwriting some_text.txt\n"
     ]
    }
   ],
   "source": [
    "%%file some_text.txt\n",
    "This is the master version of the .txt file\n",
    "This is the test_branch version of the .txt file"
   ]
  },
  {
   "cell_type": "markdown",
   "metadata": {},
   "source": [
    "Now we need to commit these changes to finish the merge:"
   ]
  },
  {
   "cell_type": "code",
   "execution_count": 118,
   "metadata": {},
   "outputs": [
    {
     "name": "stdout",
     "output_type": "stream",
     "text": [
      "[master a0d1839] merged test_branch into master, conflict resolved\r\n"
     ]
    }
   ],
   "source": [
    "!git add .\n",
    "!git commit -m\"merged test_branch into master, conflict resolved\""
   ]
  },
  {
   "cell_type": "markdown",
   "metadata": {},
   "source": [
    "This is how you resolve a conflict in the merge from the command line, which is the most low-level way. \n",
    "\n",
    "There are `git` GUIs which allow you to do this visually, without the need to edit files manually, it will show you the changes and the conflicts and let you choose one of the options or leave both, etc. One of such tools is IDE called Atom, which we will look at later. But there are others, from very basic to highly complicated, made to work with huge projects and many branches. List of GUIs can be found on the official `git` website: https://git-scm.com/downloads/guis"
   ]
  },
  {
   "cell_type": "markdown",
   "metadata": {},
   "source": [
    "# Using the power of version control\n",
    "\n",
    "Navigating the commit tree\n",
    "\n",
    "    git log\n",
    "    \n",
    "Look at the log diagram\n",
    "    \n",
    "Check out commits, creating branches from commits"
   ]
  },
  {
   "cell_type": "markdown",
   "metadata": {},
   "source": [
    "Look at the log in console, or go to Github and look at the log there:"
   ]
  },
  {
   "cell_type": "code",
   "execution_count": 126,
   "metadata": {},
   "outputs": [
    {
     "name": "stdout",
     "output_type": "stream",
     "text": [
      "\u001b[33mcommit a0d1839f7063476bf888cee34ea1c370db8f380e\u001b[m\r\n",
      "Merge: d184f45 c7b1a8d\r\n",
      "Author: santopolskiy <s.antopolskiy@camlintechnologies.com>\r\n",
      "Date:   Fri Jun 29 13:49:42 2018 +0200\r\n",
      "\r\n",
      "    merged test_branch into master, conflict resolved\r\n",
      "\r\n",
      "\u001b[33mcommit c7b1a8d81275a3fa82fc64d550cd7ebf255a14bf\u001b[m\r\n",
      "Author: santopolskiy <s.antopolskiy@camlintechnologies.com>\r\n",
      "Date:   Fri Jun 29 13:30:29 2018 +0200\r\n",
      "\r\n",
      "    changes to the txt file\r\n",
      "\r\n",
      "\u001b[33mcommit d184f45285b04c619d4ac1beb4b2e748f5bdc55d\u001b[m\r\n",
      "Author: santopolskiy <s.antopolskiy@camlintechnologies.com>\r\n",
      "Date:   Fri Jun 29 13:30:14 2018 +0200\r\n",
      "\r\n",
      "    changes to the txt file\r\n"
     ]
    }
   ],
   "source": [
    "!git log -n 3"
   ]
  },
  {
   "cell_type": "markdown",
   "metadata": {},
   "source": [
    "`git log` has some interesting parameters, like `--oneline` and `graph` which can help you depending on what you want to do:"
   ]
  },
  {
   "cell_type": "code",
   "execution_count": 132,
   "metadata": {
    "scrolled": true
   },
   "outputs": [
    {
     "name": "stdout",
     "output_type": "stream",
     "text": [
      "\u001b[33ma0d1839\u001b[m merged test_branch into master, conflict resolved\r\n",
      "\u001b[33mc7b1a8d\u001b[m changes to the txt file\r\n",
      "\u001b[33md184f45\u001b[m changes to the txt file\r\n",
      "\u001b[33ma34defa\u001b[m changes to the txt file\r\n",
      "\u001b[33m8a8f5df\u001b[m changes to the txt file\r\n"
     ]
    }
   ],
   "source": [
    "!git log -n 5 --oneline"
   ]
  },
  {
   "cell_type": "markdown",
   "metadata": {},
   "source": [
    "Look at how branching looks on the log graph:"
   ]
  },
  {
   "cell_type": "code",
   "execution_count": 133,
   "metadata": {},
   "outputs": [
    {
     "name": "stdout",
     "output_type": "stream",
     "text": [
      "*   \u001b[33ma0d1839\u001b[m merged test_branch into master, conflict resolved\r\n",
      "\u001b[31m|\u001b[m\u001b[32m\\\u001b[m  \r\n",
      "\u001b[31m|\u001b[m * \u001b[33mc7b1a8d\u001b[m changes to the txt file\r\n",
      "* \u001b[32m|\u001b[m \u001b[33md184f45\u001b[m changes to the txt file\r\n",
      "\u001b[32m|\u001b[m\u001b[32m/\u001b[m  \r\n",
      "* \u001b[33ma34defa\u001b[m changes to the txt file\r\n",
      "* \u001b[33m8a8f5df\u001b[m changes to the txt file\r\n"
     ]
    }
   ],
   "source": [
    "!git log -n 5 --graph --oneline"
   ]
  },
  {
   "cell_type": "markdown",
   "metadata": {},
   "source": [
    "# Navigating the commit tree\n",
    "You can `checkout` any commit as if you `checkout` a branch, using the hash of the commit:"
   ]
  },
  {
   "cell_type": "code",
   "execution_count": 134,
   "metadata": {},
   "outputs": [
    {
     "name": "stdout",
     "output_type": "stream",
     "text": [
      "Note: checking out 'a34d'.\r\n",
      "\r\n",
      "You are in 'detached HEAD' state. You can look around, make experimental\r\n",
      "changes and commit them, and you can discard any commits you make in this\r\n",
      "state without impacting any branches by performing another checkout.\r\n",
      "\r\n",
      "If you want to create a new branch to retain commits you create, you may\r\n",
      "do so (now or later) by using -b with the checkout command again. Example:\r\n",
      "\r\n",
      "  git checkout -b <new-branch-name>\r\n",
      "\r\n",
      "HEAD is now at a34defa... changes to the txt file\r\n"
     ]
    }
   ],
   "source": [
    "!git checkout a34d"
   ]
  },
  {
   "cell_type": "markdown",
   "metadata": {},
   "source": [
    "`git` gives you a very helpful message when you do that: basically that the state of the file system now is not attached to any branches, it is \"detached\" from anything (\"detached HEAD\"). If you want to continue doing some changes from this point, you need to create a new branch from this commit by running:\n",
    "\n",
    "    git branch <new-branch-name>\n",
    "    git checkout <new-branch-name>\n",
    "    \n",
    "Or a shortcut (\"a combo\") for these 2 commands:\n",
    "\n",
    "    git checkout -b <new-branch-name>\n",
    "    \n",
    "Checking out commits can be extremely useful when you want to compare the current version of your code with the onl version.\n",
    "\n",
    "If you want to go back to one of the top (or `HEAD`s) of your normal branches, just use `git checkout` like you would normally do to checkout the branch."
   ]
  },
  {
   "cell_type": "markdown",
   "metadata": {},
   "source": [
    "# Contributing to an open-source project"
   ]
  },
  {
   "cell_type": "markdown",
   "metadata": {},
   "source": [
    "## Forking\n",
    "\n",
    "Working with Python means working with open source projects. At one point or another you would like to change something in one of these projects, to fit your need, or even contribute to it. Github makes it very easy to do in a structured way. We will try it now.\n",
    "\n",
    "Go to the course repo (https://github.com/antopolskiy/advanced-python-training) and click on \"Fork\" button on the top right. This will create a copy of the repo on your Github account (by the way, you can use it to keep your own copy of a repo if you are afraif it will change in the future). Go back to your repos and copy the address of the fork. The clone it using `git clone <repo address>`.\n",
    "\n",
    "Create a file `fork_<your name>.txt`. Stage the file and commit the change. Use `git push` to push the file to your remote fork.\n",
    "\n",
    "## Creating a pull request\n",
    "\n",
    "Now you can navigate to your fork on Github and click the button \"New pull request\". There you can select into which branch of the original repo you would like to merge your changes. If everything is fine, write a message to the maintainers of the original repo (usually explaining what the change does and why you want to implement it) and submit the pull request. It will create a special page on the original repo's \"Pull requests\" section, where other people can see the changes you made and discuss them. If everything goes well, your change will be merged with the project and you will officially become a contributor to the project!"
   ]
  },
  {
   "cell_type": "markdown",
   "metadata": {
    "collapsed": true
   },
   "source": [
    "# Other details\n",
    "\n",
    "## `.gitignore`\n",
    "\n",
    "`.gitignore` is a special file in the repo directory, which tells `git` which files to ignore completely when tracking. This is useful in case of:\n",
    "- Big files in the repo (e.g. data files) which you don't want to commit\n",
    "- Test files which you don't need to commit\n",
    "- Something produced by the scripts (e.g. figures for the analysis)\n",
    "- Other kind of temporary files, which doesn't make sense to commit"
   ]
  },
  {
   "cell_type": "markdown",
   "metadata": {
    "collapsed": true
   },
   "source": [
    "How to do it:\n",
    "Simply create a file callen `.gitignore` (yes, it doesn't have a name, just an extension). Edit the file with text editor. Each line is 1 ignore statement, which can be:\n",
    "- a file name\n",
    "- a folder name (add `/` in the end of the name)\n",
    "- a name pattern, for example using \"wildcard character\" `*`; in this case `*test*` means that any file or folder which has `test` in it, will be ignored\n",
    "\n",
    "For more advanced patterns, see documentation for `gitignore`: https://git-scm.com/docs/gitignore"
   ]
  }
 ],
 "metadata": {
  "kernelspec": {
   "display_name": "Python 3.5",
   "language": "python",
   "name": "py35"
  },
  "language_info": {
   "codemirror_mode": {
    "name": "ipython",
    "version": 3
   },
   "file_extension": ".py",
   "mimetype": "text/x-python",
   "name": "python",
   "nbconvert_exporter": "python",
   "pygments_lexer": "ipython3",
   "version": "3.5.5"
  }
 },
 "nbformat": 4,
 "nbformat_minor": 2
}
