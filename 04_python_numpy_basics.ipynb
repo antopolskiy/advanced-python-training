{
 "cells": [
  {
   "cell_type": "markdown",
   "metadata": {},
   "source": [
    "`numpy` is one of the most important Python packages in science. It implements a new data type, called `ndarray` (*n-dimensional array*), which is optimized for numerical operations. Here are some things you need to know about arrays:\n",
    "\n",
    "1. In arrays all elements must have the same type and hence occupy the same memory space. You cannot define an array in which one element is an `int` and another is a `float` or `bool`.\n",
    "2. Arrays occupy continous segment of memory, as opposed to lists, which are just pointers to different objects in various part of memory\n",
    "3. Arrays have *constant access time*. If you have a very large `list`, getting elements from it will be progressively more slow. This is not the case with arrays: getting elements is always fast. This is a consequence of the first 2 properties of arrays.\n",
    "4. However, insertion of elements in the middle of an array or appending an array is inefficient. Hence, you should always *preallocate* an array, if you can. For example, if you want to make a loop and add a value to an array on each iteration, it is much more efficient to first define an empty array which has the length of the final result, and then change elements on each iteration of the loop. We will see an example in practice later."
   ]
  },
  {
   "cell_type": "markdown",
   "metadata": {},
   "source": [
    "First let's import `numpy`. It is customary to import it as `np`."
   ]
  },
  {
   "cell_type": "code",
   "execution_count": 1,
   "metadata": {
    "collapsed": true
   },
   "outputs": [],
   "source": [
    "import numpy as np"
   ]
  },
  {
   "cell_type": "markdown",
   "metadata": {},
   "source": [
    "Simplest thing you can do is to make an array from a list, like so:"
   ]
  },
  {
   "cell_type": "code",
   "execution_count": 2,
   "metadata": {},
   "outputs": [
    {
     "name": "stdout",
     "output_type": "stream",
     "text": [
      "[1 2 3]\n"
     ]
    }
   ],
   "source": [
    "x = np.array([1,2,3])\n",
    "print(x)"
   ]
  },
  {
   "cell_type": "markdown",
   "metadata": {},
   "source": [
    "However, there are many other ways of creating arrays, `numpy` package includes a lot of functions which create arrays based of various rules, and we will use some of them throughout this notebook. One of them is `np.zeros(n)` which creates an array of length `n` filled with `0`:"
   ]
  },
  {
   "cell_type": "code",
   "execution_count": 3,
   "metadata": {},
   "outputs": [
    {
     "name": "stdout",
     "output_type": "stream",
     "text": [
      "[0. 0. 0. 0.]\n"
     ]
    }
   ],
   "source": [
    "x = np.zeros(4)\n",
    "print(x)"
   ]
  },
  {
   "cell_type": "markdown",
   "metadata": {},
   "source": [
    "When you create an array, it has some very helpful attributes, such as \n",
    "- `ndim` (number of dimensions)\n",
    "- `shape` (length of each dimension)\n",
    "- `size` (total number of elements in the array)\n",
    "- `dtype` (element type)"
   ]
  },
  {
   "cell_type": "code",
   "execution_count": 4,
   "metadata": {},
   "outputs": [
    {
     "name": "stdout",
     "output_type": "stream",
     "text": [
      "[0. 0. 0. 0. 0. 0. 0. 0. 0. 0.]\n",
      "ndim:  1\n",
      "shape: (10,)\n",
      "size:  10\n",
      "dtype: float64\n"
     ]
    }
   ],
   "source": [
    "x = np.zeros(10)\n",
    "print(x)\n",
    "print(\"ndim: \", x.ndim)\n",
    "print(\"shape:\", x.shape)\n",
    "print(\"size: \", x.size)\n",
    "print(\"dtype:\", x.dtype)"
   ]
  },
  {
   "cell_type": "markdown",
   "metadata": {},
   "source": [
    "Let's see the same for 2-dimensional array (we will take a look at how to create and work with them in more detail later):"
   ]
  },
  {
   "cell_type": "code",
   "execution_count": 5,
   "metadata": {},
   "outputs": [
    {
     "name": "stdout",
     "output_type": "stream",
     "text": [
      "[[0. 0. 0. 0. 0.]\n",
      " [0. 0. 0. 0. 0.]\n",
      " [0. 0. 0. 0. 0.]\n",
      " [0. 0. 0. 0. 0.]\n",
      " [0. 0. 0. 0. 0.]]\n",
      "ndim:  2\n",
      "shape: (5, 5)\n",
      "size:  25\n",
      "dtype: float64\n"
     ]
    }
   ],
   "source": [
    "x = np.zeros((5,5))\n",
    "print(x)\n",
    "print(\"ndim: \", x.ndim)\n",
    "print(\"shape:\", x.shape)\n",
    "print(\"size: \", x.size)\n",
    "print(\"dtype:\", x.dtype)"
   ]
  },
  {
   "cell_type": "markdown",
   "metadata": {},
   "source": [
    "Another useful function to create arrays is `np.arange(n)` which will create an array of integers from `0` to `n` (not including `n`):"
   ]
  },
  {
   "cell_type": "code",
   "execution_count": 6,
   "metadata": {},
   "outputs": [
    {
     "data": {
      "text/plain": [
       "array([ 0,  1,  2,  3,  4,  5,  6,  7,  8,  9, 10, 11, 12, 13, 14, 15, 16,\n",
       "       17, 18, 19])"
      ]
     },
     "execution_count": 6,
     "metadata": {},
     "output_type": "execute_result"
    }
   ],
   "source": [
    "x = np.arange(20)\n",
    "x"
   ]
  },
  {
   "cell_type": "markdown",
   "metadata": {},
   "source": [
    "You can also specify beginning and end `np.arange(n,m)` to created an array from `n` to `m` (excluding `m`):"
   ]
  },
  {
   "cell_type": "code",
   "execution_count": 7,
   "metadata": {},
   "outputs": [
    {
     "data": {
      "text/plain": [
       "array([10, 11, 12, 13, 14, 15, 16, 17, 18, 19, 20, 21, 22, 23, 24, 25, 26,\n",
       "       27, 28, 29])"
      ]
     },
     "execution_count": 7,
     "metadata": {},
     "output_type": "execute_result"
    }
   ],
   "source": [
    "x = np.arange(10,30)\n",
    "x"
   ]
  },
  {
   "cell_type": "markdown",
   "metadata": {},
   "source": [
    "Finally, you can specify a step:"
   ]
  },
  {
   "cell_type": "code",
   "execution_count": 8,
   "metadata": {},
   "outputs": [
    {
     "data": {
      "text/plain": [
       "array([10. , 10.5, 11. , 11.5, 12. , 12.5, 13. , 13.5, 14. , 14.5, 15. ,\n",
       "       15.5, 16. , 16.5, 17. , 17.5, 18. , 18.5, 19. , 19.5])"
      ]
     },
     "execution_count": 8,
     "metadata": {},
     "output_type": "execute_result"
    }
   ],
   "source": [
    "x = np.arange(10,20,0.5)\n",
    "x"
   ]
  },
  {
   "cell_type": "markdown",
   "metadata": {},
   "source": [
    "# Array indexing"
   ]
  },
  {
   "cell_type": "markdown",
   "metadata": {},
   "source": [
    "Array indexing works exactly the same way as `list` indexing. As always in Python, we start counting from zero. `x[0]` is the first element of the array, `x[3]` gives us *4-th* element of the array, etc:"
   ]
  },
  {
   "cell_type": "code",
   "execution_count": 9,
   "metadata": {},
   "outputs": [
    {
     "data": {
      "text/plain": [
       "10.0"
      ]
     },
     "execution_count": 9,
     "metadata": {},
     "output_type": "execute_result"
    }
   ],
   "source": [
    "x[0]"
   ]
  },
  {
   "cell_type": "code",
   "execution_count": 10,
   "metadata": {},
   "outputs": [
    {
     "data": {
      "text/plain": [
       "11.5"
      ]
     },
     "execution_count": 10,
     "metadata": {},
     "output_type": "execute_result"
    }
   ],
   "source": [
    "x[3]"
   ]
  },
  {
   "cell_type": "code",
   "execution_count": 11,
   "metadata": {},
   "outputs": [
    {
     "data": {
      "text/plain": [
       "12.5"
      ]
     },
     "execution_count": 11,
     "metadata": {},
     "output_type": "execute_result"
    }
   ],
   "source": [
    "x[5]"
   ]
  },
  {
   "cell_type": "code",
   "execution_count": 12,
   "metadata": {},
   "outputs": [
    {
     "data": {
      "text/plain": [
       "19.5"
      ]
     },
     "execution_count": 12,
     "metadata": {},
     "output_type": "execute_result"
    }
   ],
   "source": [
    "# indexing from the end: -1 is the last element\n",
    "x[-1]"
   ]
  },
  {
   "cell_type": "code",
   "execution_count": 13,
   "metadata": {},
   "outputs": [
    {
     "data": {
      "text/plain": [
       "17.5"
      ]
     },
     "execution_count": 13,
     "metadata": {},
     "output_type": "execute_result"
    }
   ],
   "source": [
    "x[-5]"
   ]
  },
  {
   "cell_type": "markdown",
   "metadata": {},
   "source": [
    "Let's create a two-dimensional array using another function from `numpy` -- `np.random.randint`, which will give as an array of random integers up to a certain number. We can also specify the size of the array with *keyword argument* `size`:"
   ]
  },
  {
   "cell_type": "code",
   "execution_count": 14,
   "metadata": {},
   "outputs": [
    {
     "data": {
      "text/plain": [
       "array([[42, 32, 48, 37, 47],\n",
       "       [28, 36, 43, 41, 39],\n",
       "       [21, 31, 29, 13, 37]])"
      ]
     },
     "execution_count": 14,
     "metadata": {},
     "output_type": "execute_result"
    }
   ],
   "source": [
    "# create two-dimensional array of size (3,5) filled with random integers from 10 to 50\n",
    "x2 = np.random.randint(10, 50, size=(3,5))\n",
    "x2"
   ]
  },
  {
   "cell_type": "markdown",
   "metadata": {},
   "source": [
    "When indexing multidimensional array, specify indexes in each dimension, like so:"
   ]
  },
  {
   "cell_type": "code",
   "execution_count": 15,
   "metadata": {},
   "outputs": [
    {
     "data": {
      "text/plain": [
       "47"
      ]
     },
     "execution_count": 15,
     "metadata": {},
     "output_type": "execute_result"
    }
   ],
   "source": [
    "# get element which is in position 0 in first dimension, and position 4 in second dimension\n",
    "x2[0,4]"
   ]
  },
  {
   "cell_type": "code",
   "execution_count": 16,
   "metadata": {},
   "outputs": [
    {
     "data": {
      "text/plain": [
       "47"
      ]
     },
     "execution_count": 16,
     "metadata": {},
     "output_type": "execute_result"
    }
   ],
   "source": [
    "# get the same element using indexing from the end in the second dimension\n",
    "x2[0,-1]"
   ]
  },
  {
   "cell_type": "markdown",
   "metadata": {},
   "source": [
    "You can also create 3 dimensional arrays (or any number of dimensions, really) by extending same syntax:"
   ]
  },
  {
   "cell_type": "code",
   "execution_count": 17,
   "metadata": {},
   "outputs": [
    {
     "data": {
      "text/plain": [
       "array([[[1, 2, 9, 1, 1, 8, 2],\n",
       "        [1, 3, 3, 7, 7, 8, 3],\n",
       "        [9, 5, 5, 7, 8, 7, 6],\n",
       "        [6, 7, 0, 0, 2, 1, 3],\n",
       "        [7, 1, 7, 7, 7, 0, 0]],\n",
       "\n",
       "       [[9, 9, 5, 4, 8, 7, 8],\n",
       "        [5, 3, 8, 1, 2, 7, 2],\n",
       "        [8, 6, 3, 9, 3, 3, 0],\n",
       "        [7, 5, 0, 5, 4, 8, 6],\n",
       "        [4, 4, 3, 6, 1, 0, 6]],\n",
       "\n",
       "       [[4, 4, 7, 1, 5, 3, 8],\n",
       "        [9, 3, 5, 8, 2, 8, 0],\n",
       "        [0, 8, 6, 0, 5, 8, 7],\n",
       "        [7, 3, 9, 3, 1, 0, 8],\n",
       "        [4, 4, 0, 6, 1, 7, 3]]])"
      ]
     },
     "execution_count": 17,
     "metadata": {},
     "output_type": "execute_result"
    }
   ],
   "source": [
    "x3 = np.random.randint(10,size=(3,5,7))\n",
    "x3"
   ]
  },
  {
   "cell_type": "code",
   "execution_count": 18,
   "metadata": {},
   "outputs": [
    {
     "data": {
      "text/plain": [
       "4"
      ]
     },
     "execution_count": 18,
     "metadata": {},
     "output_type": "execute_result"
    }
   ],
   "source": [
    "# get a single element from 3 dimensional array\n",
    "x3[1,3,4]"
   ]
  },
  {
   "cell_type": "markdown",
   "metadata": {},
   "source": [
    "# Change value of elements in the array\n",
    "\n",
    "You can assign individual in the array by using same syntax as getting the element followed by assignment operation (`=`). Let's remember our 2 dimensional array:"
   ]
  },
  {
   "cell_type": "code",
   "execution_count": 19,
   "metadata": {},
   "outputs": [
    {
     "data": {
      "text/plain": [
       "array([[42, 32, 48, 37, 47],\n",
       "       [28, 36, 43, 41, 39],\n",
       "       [21, 31, 29, 13, 37]])"
      ]
     },
     "execution_count": 19,
     "metadata": {},
     "output_type": "execute_result"
    }
   ],
   "source": [
    "x2"
   ]
  },
  {
   "cell_type": "code",
   "execution_count": 20,
   "metadata": {},
   "outputs": [
    {
     "data": {
      "text/plain": [
       "array([[-666,   32,   48,   37,  999],\n",
       "       [  28,   36,   43,   41,   39],\n",
       "       [  21,   31,   29,   13,   37]])"
      ]
     },
     "execution_count": 20,
     "metadata": {},
     "output_type": "execute_result"
    }
   ],
   "source": [
    "# modifying items\n",
    "x2[0,0] = -666\n",
    "x2[0,-1] = 999\n",
    "x2"
   ]
  },
  {
   "cell_type": "markdown",
   "metadata": {},
   "source": [
    "Keep in mind that NumPy arrays have fixed type, and they will not \"upcast\" automatically! E.g. if you try to store `float` in the array of type `int`, it will try to convert `float` to `int`:"
   ]
  },
  {
   "cell_type": "code",
   "execution_count": 21,
   "metadata": {},
   "outputs": [
    {
     "data": {
      "text/plain": [
       "array([[  3,  32,  48,  37, 999],\n",
       "       [ 28,  36,  43,  41,  39],\n",
       "       [ 21,  31,  29,  13,  37]])"
      ]
     },
     "execution_count": 21,
     "metadata": {},
     "output_type": "execute_result"
    }
   ],
   "source": [
    "x2[0,0] = 3.1415\n",
    "x2"
   ]
  },
  {
   "cell_type": "markdown",
   "metadata": {},
   "source": [
    "## Array slicing\n",
    "Using *:* within brackes we can access slices of the array with the following pattern (same as `list`):\n",
    "        \n",
    "    x[start:stop:step]\n",
    "    \n",
    "If any of these are unspecified, they are assumed as following: `start=0, stop=`*size of dimension*`, step=1`\n",
    "\n",
    "> `np.random.rand` creates uniform random numbers from 0 to 1"
   ]
  },
  {
   "cell_type": "code",
   "execution_count": 22,
   "metadata": {},
   "outputs": [
    {
     "data": {
      "text/plain": [
       "array([0.85327747, 0.93448524, 0.74072625, 0.28279838, 0.24394755,\n",
       "       0.4228865 , 0.22602792, 0.76796705, 0.76799699, 0.86461608,\n",
       "       0.45402648, 0.00244675, 0.93406553, 0.15594633, 0.01097102,\n",
       "       0.49716417, 0.73698394, 0.69290145, 0.22093281, 0.6160412 ,\n",
       "       0.78751804, 0.2923685 , 0.69217394, 0.16660212, 0.96843923,\n",
       "       0.03480776, 0.24271733, 0.54464918, 0.17936545, 0.64589122,\n",
       "       0.01291803, 0.58934853, 0.2233101 , 0.93745512, 0.34702633,\n",
       "       0.0856212 , 0.95238259, 0.99235952, 0.26049627, 0.24667288,\n",
       "       0.80172547, 0.01950657, 0.13298714, 0.68347658, 0.1617023 ,\n",
       "       0.79454834, 0.19262115, 0.85027146, 0.6164468 , 0.74654733])"
      ]
     },
     "execution_count": 22,
     "metadata": {},
     "output_type": "execute_result"
    }
   ],
   "source": [
    "x = np.random.rand(50)\n",
    "x"
   ]
  },
  {
   "cell_type": "markdown",
   "metadata": {},
   "source": [
    "**Note**: don't confuse: this is not a 2 dimensional array, it is 1 dimensional array with 50 number in it, and it is just displayed as a 2d table for convenience. The following is how a 2 dimensional array of the same size would look like, note that each line has its own brakets (it is basically array of arrays):"
   ]
  },
  {
   "cell_type": "code",
   "execution_count": 23,
   "metadata": {},
   "outputs": [
    {
     "data": {
      "text/plain": [
       "array([[0.77140785, 0.68451117, 0.40185905, 0.73828191, 0.68036497],\n",
       "       [0.76270652, 0.32974969, 0.69069238, 0.66982167, 0.4360851 ],\n",
       "       [0.19953394, 0.25384876, 0.00899703, 0.32246468, 0.20356241],\n",
       "       [0.56221178, 0.95976037, 0.77443959, 0.51972855, 0.67903335],\n",
       "       [0.66286801, 0.56727447, 0.34316646, 0.12510377, 0.25135067],\n",
       "       [0.20865799, 0.26309506, 0.11612746, 0.6921969 , 0.94684806],\n",
       "       [0.33724928, 0.60988033, 0.84725721, 0.78635921, 0.89180201],\n",
       "       [0.7727183 , 0.62998669, 0.58094715, 0.87058508, 0.32788016],\n",
       "       [0.15248749, 0.89075764, 0.91113651, 0.06443839, 0.67522021],\n",
       "       [0.27859241, 0.29902909, 0.29089561, 0.54698332, 0.25045062]])"
      ]
     },
     "execution_count": 23,
     "metadata": {},
     "output_type": "execute_result"
    }
   ],
   "source": [
    "np.random.rand(10,5)"
   ]
  },
  {
   "cell_type": "markdown",
   "metadata": {},
   "source": [
    "Let get back to our 1d array with 50 numbers and look at slicing:"
   ]
  },
  {
   "cell_type": "code",
   "execution_count": 24,
   "metadata": {},
   "outputs": [
    {
     "data": {
      "text/plain": [
       "array([0.87161052, 0.14803519, 0.63575087, 0.087833  , 0.95611838,\n",
       "       0.95486976, 0.05985936, 0.34059389, 0.42984314, 0.84703061,\n",
       "       0.98996125, 0.34650466, 0.54684004, 0.90308737, 0.00833628,\n",
       "       0.52795916, 0.0849075 , 0.01865644, 0.99401179, 0.68730084,\n",
       "       0.3154464 , 0.9040306 , 0.17285032, 0.61847886, 0.50272755,\n",
       "       0.83230226, 0.78861075, 0.36633974, 0.93193336, 0.9267869 ,\n",
       "       0.74962359, 0.33381776, 0.5165517 , 0.83598746, 0.3763199 ,\n",
       "       0.18674088, 0.36272191, 0.06861363, 0.35021665, 0.90778551,\n",
       "       0.95834415, 0.13923709, 0.66817774, 0.067392  , 0.657958  ,\n",
       "       0.13462399, 0.45315583, 0.36281752, 0.14789674, 0.70206082])"
      ]
     },
     "execution_count": 24,
     "metadata": {},
     "output_type": "execute_result"
    }
   ],
   "source": [
    "x = np.random.rand(50)\n",
    "x"
   ]
  },
  {
   "cell_type": "code",
   "execution_count": 25,
   "metadata": {
    "scrolled": true
   },
   "outputs": [
    {
     "data": {
      "text/plain": [
       "array([0.87161052, 0.14803519, 0.63575087, 0.087833  , 0.95611838,\n",
       "       0.95486976, 0.05985936, 0.34059389, 0.42984314, 0.84703061])"
      ]
     },
     "execution_count": 25,
     "metadata": {},
     "output_type": "execute_result"
    }
   ],
   "source": [
    "# first 10 elements\n",
    "x[:10]"
   ]
  },
  {
   "cell_type": "code",
   "execution_count": 26,
   "metadata": {},
   "outputs": [
    {
     "data": {
      "text/plain": [
       "array([0.95611838, 0.95486976, 0.05985936, 0.34059389, 0.42984314,\n",
       "       0.84703061])"
      ]
     },
     "execution_count": 26,
     "metadata": {},
     "output_type": "execute_result"
    }
   ],
   "source": [
    "# from 5th to 10th element\n",
    "x[4:10]"
   ]
  },
  {
   "cell_type": "code",
   "execution_count": 27,
   "metadata": {},
   "outputs": [
    {
     "data": {
      "text/plain": [
       "array([0.98996125, 0.34650466, 0.54684004, 0.90308737, 0.00833628,\n",
       "       0.52795916, 0.0849075 , 0.01865644, 0.99401179, 0.68730084,\n",
       "       0.3154464 , 0.9040306 , 0.17285032, 0.61847886, 0.50272755,\n",
       "       0.83230226, 0.78861075, 0.36633974, 0.93193336, 0.9267869 ,\n",
       "       0.74962359, 0.33381776, 0.5165517 , 0.83598746, 0.3763199 ,\n",
       "       0.18674088, 0.36272191, 0.06861363, 0.35021665, 0.90778551,\n",
       "       0.95834415, 0.13923709, 0.66817774, 0.067392  , 0.657958  ,\n",
       "       0.13462399, 0.45315583, 0.36281752, 0.14789674, 0.70206082])"
      ]
     },
     "execution_count": 27,
     "metadata": {},
     "output_type": "execute_result"
    }
   ],
   "source": [
    "# from 11th element until the end\n",
    "x[10:]"
   ]
  },
  {
   "cell_type": "markdown",
   "metadata": {},
   "source": [
    ">**Note**: If you were doubting convenience of zero-indexing (like I was in the beginnig), perhaps this is a time to re-evaluate. Note that with zero indexing and not including end-point in the slice, it is very easy to tell how many elements you will get in the output when you slice: `x[:5]` will give you exactly `5` elements. `x[4:10]` will give exactly `10-4 = 6` elements. There is no uncertainty there, it is all very clear and consistent. For comparison, in MATLAB `x(1:5)` gives you `5-1+1 = 5` elements and `x(2:5)` gives you `5-2+1 = 4` elements.\n",
    "\n",
    ">Another strength of this approach is that if you want to extract consequtive intervals, you end one and start next one with the same index, i.e. `x[:5]` and `x[5:]` are *non-overlaping* consequtive intervals. For comparison, in MATLAB this would become `x(1:5)` and `x(6:end)`.\n",
    "\n",
    ">And this is only beginning, in fact any calculations on intervals are immensely simplified in zero-indexing and not including the end-point in the slice."
   ]
  },
  {
   "cell_type": "markdown",
   "metadata": {},
   "source": [
    "Some more slicing examples:"
   ]
  },
  {
   "cell_type": "code",
   "execution_count": 28,
   "metadata": {},
   "outputs": [
    {
     "data": {
      "text/plain": [
       "array([0.87161052, 0.63575087, 0.95611838, 0.05985936, 0.42984314,\n",
       "       0.98996125, 0.54684004, 0.00833628, 0.0849075 , 0.99401179,\n",
       "       0.3154464 , 0.17285032, 0.50272755, 0.78861075, 0.93193336,\n",
       "       0.74962359, 0.5165517 , 0.3763199 , 0.36272191, 0.35021665,\n",
       "       0.95834415, 0.66817774, 0.657958  , 0.45315583, 0.14789674])"
      ]
     },
     "execution_count": 28,
     "metadata": {},
     "output_type": "execute_result"
    }
   ],
   "source": [
    "# every second element\n",
    "x[::2]"
   ]
  },
  {
   "cell_type": "code",
   "execution_count": 29,
   "metadata": {},
   "outputs": [
    {
     "data": {
      "text/plain": [
       "array([0.87161052, 0.087833  , 0.05985936, 0.84703061, 0.54684004,\n",
       "       0.52795916, 0.99401179, 0.9040306 , 0.50272755, 0.36633974,\n",
       "       0.74962359, 0.83598746, 0.36272191, 0.90778551, 0.66817774,\n",
       "       0.13462399, 0.14789674])"
      ]
     },
     "execution_count": 29,
     "metadata": {},
     "output_type": "execute_result"
    }
   ],
   "source": [
    "# every third element\n",
    "x[::3]"
   ]
  },
  {
   "cell_type": "code",
   "execution_count": 30,
   "metadata": {},
   "outputs": [
    {
     "name": "stdout",
     "output_type": "stream",
     "text": [
      "[0 1 2 3 4 5 6 7 8 9]\n",
      "[9 8 7 6 5 4 3 2 1 0]\n"
     ]
    }
   ],
   "source": [
    "# reverse array\n",
    "x = np.arange(10)\n",
    "print(x)\n",
    "print(x[::-1])"
   ]
  },
  {
   "cell_type": "markdown",
   "metadata": {},
   "source": [
    "You can combine slicing in one dimension with precise indexing in another:"
   ]
  },
  {
   "cell_type": "code",
   "execution_count": 31,
   "metadata": {},
   "outputs": [
    {
     "data": {
      "text/plain": [
       "array([[  3,  32,  48,  37, 999],\n",
       "       [ 28,  36,  43,  41,  39],\n",
       "       [ 21,  31,  29,  13,  37]])"
      ]
     },
     "execution_count": 31,
     "metadata": {},
     "output_type": "execute_result"
    }
   ],
   "source": [
    "x2"
   ]
  },
  {
   "cell_type": "code",
   "execution_count": 32,
   "metadata": {
    "scrolled": true
   },
   "outputs": [
    {
     "data": {
      "text/plain": [
       "array([48, 43, 29])"
      ]
     },
     "execution_count": 32,
     "metadata": {},
     "output_type": "execute_result"
    }
   ],
   "source": [
    "# access third column\n",
    "x2[:,2]"
   ]
  },
  {
   "cell_type": "markdown",
   "metadata": {},
   "source": [
    "> **Pro-tip**: When slicing an array, it is useful to keep in mind that by default the resulting sub-array is not a separate entity in memory, but is actually accessing the memory location of the original array. In programming terms we can say that it is *view* on the same object, not a copy. Here is a simple example:"
   ]
  },
  {
   "cell_type": "code",
   "execution_count": 33,
   "metadata": {},
   "outputs": [
    {
     "data": {
      "text/plain": [
       "array([[1, 9, 7, 8, 6],\n",
       "       [3, 0, 2, 5, 9],\n",
       "       [9, 7, 4, 8, 5]])"
      ]
     },
     "execution_count": 33,
     "metadata": {},
     "output_type": "execute_result"
    }
   ],
   "source": [
    "x2 = np.random.randint(0, 10, size=(3,5))\n",
    "x2"
   ]
  },
  {
   "cell_type": "code",
   "execution_count": 34,
   "metadata": {},
   "outputs": [
    {
     "data": {
      "text/plain": [
       "array([[1, 9],\n",
       "       [3, 0]])"
      ]
     },
     "execution_count": 34,
     "metadata": {},
     "output_type": "execute_result"
    }
   ],
   "source": [
    "# get first two elements from both dimensions\n",
    "x2_sub = x2[:2,:2]\n",
    "x2_sub"
   ]
  },
  {
   "cell_type": "code",
   "execution_count": 35,
   "metadata": {},
   "outputs": [
    {
     "data": {
      "text/plain": [
       "array([[  1,   9],\n",
       "       [  3, 999]])"
      ]
     },
     "execution_count": 35,
     "metadata": {},
     "output_type": "execute_result"
    }
   ],
   "source": [
    "# modify an element in the new array\n",
    "x2_sub[1,1] = 999\n",
    "x2_sub"
   ]
  },
  {
   "cell_type": "code",
   "execution_count": 36,
   "metadata": {},
   "outputs": [
    {
     "data": {
      "text/plain": [
       "array([[  1,   9,   7,   8,   6],\n",
       "       [  3, 999,   2,   5,   9],\n",
       "       [  9,   7,   4,   8,   5]])"
      ]
     },
     "execution_count": 36,
     "metadata": {},
     "output_type": "execute_result"
    }
   ],
   "source": [
    "# see that the original array also got modified\n",
    "x2"
   ]
  },
  {
   "cell_type": "markdown",
   "metadata": {},
   "source": [
    ">This behavior is very useful for working with data, because it saves you a lot of memory and speed for useless copying. If you need to make a copy of the array, you must do it explicitly:"
   ]
  },
  {
   "cell_type": "code",
   "execution_count": 37,
   "metadata": {
    "collapsed": true
   },
   "outputs": [],
   "source": [
    "# make a copy\n",
    "x2_sub = x2[:2,:2].copy()"
   ]
  },
  {
   "cell_type": "code",
   "execution_count": 38,
   "metadata": {},
   "outputs": [
    {
     "name": "stdout",
     "output_type": "stream",
     "text": [
      "[[   1    9]\n",
      " [   3 -666]]\n",
      "\n",
      "[[  1   9   7   8   6]\n",
      " [  3 999   2   5   9]\n",
      " [  9   7   4   8   5]]\n"
     ]
    }
   ],
   "source": [
    "# modify a copy and verify that the original array is intact\n",
    "x2_sub[1,1] = -666\n",
    "print(x2_sub)\n",
    "print()\n",
    "print(x2)"
   ]
  },
  {
   "cell_type": "markdown",
   "metadata": {},
   "source": [
    "# Operations on arrays\n",
    "\n",
    "We use arrays to speed up computations. The key thing to understand here is that when you make an operation on each element of an array or a list separately, each object has to be *dynamically typed*: during the execusion for each element Python core has to look up at the type of the element (whether it is `int`, `float`, `str`, etc) to see what \"flavour\" of the function to apply to the element. For example, in terms of precise operations on memory, convering `float` to `int` -- `int(5.6)` --  is not the same as converting `str` to `int` -- `int('5')` -- therefore before applying a particular routine to the object, Python must check the type. This is slow. Consider the following piece of code, as an example:"
   ]
  },
  {
   "cell_type": "code",
   "execution_count": 39,
   "metadata": {},
   "outputs": [
    {
     "name": "stdout",
     "output_type": "stream",
     "text": [
      "[1 2 3 4 5 6 7 8 9]\n"
     ]
    },
    {
     "data": {
      "text/plain": [
       "array([1.        , 0.5       , 0.33333333, 0.25      , 0.2       ,\n",
       "       0.16666667, 0.14285714, 0.125     , 0.11111111])"
      ]
     },
     "execution_count": 39,
     "metadata": {},
     "output_type": "execute_result"
    }
   ],
   "source": [
    "def compute_reciprocals(values):\n",
    "    \n",
    "    # preallocate array for reciprocals, same length as `values` input\n",
    "    output = np.empty(len(values))\n",
    "\n",
    "    # compute reciprocal of each element\n",
    "    for i in range(len(values)):\n",
    "        output[i] = 1.0 / values[i] # each time this division runs, Python must check types behind the scenes\n",
    "\n",
    "    return output\n",
    "\n",
    "# example use\n",
    "values = np.arange(1, 10)\n",
    "print(values)\n",
    "compute_reciprocals(values)"
   ]
  },
  {
   "cell_type": "markdown",
   "metadata": {},
   "source": [
    "This works fine. Now let's see how much time it takes to run this function on an array of 1 million integers. We use `%timeit`, which estimates the time it takes to run the function you wrote afterwards:"
   ]
  },
  {
   "cell_type": "code",
   "execution_count": 40,
   "metadata": {},
   "outputs": [
    {
     "name": "stdout",
     "output_type": "stream",
     "text": [
      "1.64 s ± 59.4 ms per loop (mean ± std. dev. of 7 runs, 1 loop each)\n"
     ]
    }
   ],
   "source": [
    "big_array = np.random.randint(1, 100, size=1000000)\n",
    "%timeit compute_reciprocals(big_array)"
   ]
  },
  {
   "cell_type": "markdown",
   "metadata": {},
   "source": [
    "Now we do the same thing, but instead we just divide `1` over our `big_array`. `numpy` automatically assumes that we want to divide `1` by each element of the array. Moreover, it has more efficient ways of doing it for us:"
   ]
  },
  {
   "cell_type": "code",
   "execution_count": 41,
   "metadata": {},
   "outputs": [
    {
     "name": "stdout",
     "output_type": "stream",
     "text": [
      "1.38 ms ± 84.5 µs per loop (mean ± std. dev. of 7 runs, 1000 loops each)\n"
     ]
    }
   ],
   "source": [
    "%timeit (1/big_array)"
   ]
  },
  {
   "cell_type": "markdown",
   "metadata": {},
   "source": [
    "So we did the same thing two times in two different ways and checked the time it takes. Results will wary based on the current state of your computer and its CPU speed, but here is what I got: for `compute_reciprocals` function I got `2.87 s`, and for `(1/big_array)` I got `6.17 ms`. This is almost 500 fold difference in run time! Imagine that you had a script using `numpy` which ran for 10 seconds. If you had written it in a wrong way using loops, it would take almost 1.5 hours to run!\n",
    "\n",
    ">**Pro-tip**: although we used `/` to divide `1/big_array`, this operator `/` is actually a shortcut for a function `np.divide':"
   ]
  },
  {
   "cell_type": "code",
   "execution_count": 42,
   "metadata": {},
   "outputs": [
    {
     "data": {
      "text/plain": [
       "array([0.01136364, 0.02380952, 0.25      , ..., 0.01075269, 0.2       ,\n",
       "       0.05882353])"
      ]
     },
     "execution_count": 42,
     "metadata": {},
     "output_type": "execute_result"
    }
   ],
   "source": [
    "np.divide(1,big_array)"
   ]
  },
  {
   "cell_type": "markdown",
   "metadata": {},
   "source": [
    ">All `numpy` operators have functions associated with them, here they are:\n",
    "\n",
    "| Operator\t    | Equivalent ufunc    | Description                           |\n",
    "|---------------|---------------------|---------------------------------------|\n",
    "|``+``          |``np.add``           |Addition (e.g., ``1 + 1 = 2``)         |\n",
    "|``-``          |``np.subtract``      |Subtraction (e.g., ``3 - 2 = 1``)      |\n",
    "|``-``          |``np.negative``      |Unary negation (e.g., ``-2``)          |\n",
    "|``*``          |``np.multiply``      |Multiplication (e.g., ``2 * 3 = 6``)   |\n",
    "|``/``          |``np.divide``        |Division (e.g., ``3 / 2 = 1.5``)       |\n",
    "|``//``         |``np.floor_divide``  |Floor division (e.g., ``3 // 2 = 1``)  |\n",
    "|``**``         |``np.power``         |Exponentiation (e.g., ``2 ** 3 = 8``)  |\n",
    "|``%``          |``np.mod``           |Modulus/remainder (e.g., ``9 % 4 = 1``)|\n",
    "\n",
    "> Why would you want to use the full function notation instead of using an operator? There are some curcumstances when using full function notation will give you more flexibility. If you do a lot of crunching on very large numerical datasets and experience problems with speed and/or memory, certainly take a look at the [NumPy](http://www.numpy.org) documentation (especially at the [ufunc](https://docs.scipy.org/doc/numpy-1.10.0/reference/ufuncs.html) section) and [SciPy](http://www.scipy.org) documentation."
   ]
  },
  {
   "cell_type": "markdown",
   "metadata": {},
   "source": [
    "# Aggregator functions\n",
    "\n",
    "Functions which reduce an array (or a dimension of an array) to a single value are called aggregator functions. Some of the most useful include `sum`, `min`, `max`, `mean`, `median`, `std`, etc. Python has in-built versions of some of these functions, but `numpy` versions are much faster and you should be always using them:"
   ]
  },
  {
   "cell_type": "code",
   "execution_count": 43,
   "metadata": {},
   "outputs": [
    {
     "name": "stdout",
     "output_type": "stream",
     "text": [
      "77.7 ms ± 5.33 ms per loop (mean ± std. dev. of 7 runs, 10 loops each)\n",
      "384 µs ± 10.7 µs per loop (mean ± std. dev. of 7 runs, 1000 loops each)\n"
     ]
    }
   ],
   "source": [
    "big_array = np.random.rand(1000000)\n",
    "%timeit sum(big_array)\n",
    "%timeit np.sum(big_array)"
   ]
  },
  {
   "cell_type": "markdown",
   "metadata": {},
   "source": [
    "Most of the aggregator function include a sister-function with `nan` prefix, which does the same, but ignores `NaN` (stands for *Not a Number*) elements. `NaN` is usually used as a placeholder for missing data, so these functions are very useful for working with data. We will revisit this in the future lesson.\n",
    "\n",
    "The following table provides a list of useful aggregation functions available in NumPy:\n",
    "\n",
    "|Function name      |   NaN-ignoring version  | Description                                   |\n",
    "|-------------------|---------------------|-----------------------------------------------|\n",
    "| ``np.sum``        | ``np.nansum``       | Compute sum of elements                       |\n",
    "| ``np.prod``       | ``np.nanprod``      | Compute product of elements                   |\n",
    "| ``np.mean``       | ``np.nanmean``      | Compute median of elements                    |\n",
    "| ``np.std``        | ``np.nanstd``       | Compute standard deviation                    |\n",
    "| ``np.var``        | ``np.nanvar``       | Compute variance                              |\n",
    "| ``np.min``        | ``np.nanmin``       | Find minimum value                            |\n",
    "| ``np.max``        | ``np.nanmax``       | Find maximum value                            |\n",
    "| ``np.argmin``     | ``np.nanargmin``    | Find index of minimum value                   |\n",
    "| ``np.argmax``     | ``np.nanargmax``    | Find index of maximum value                   |\n",
    "| ``np.median``     | ``np.nanmedian``    | Compute median of elements                    |\n",
    "| ``np.percentile`` | ``np.nanpercentile``| Compute rank-based statistics of elements     |\n",
    "| ``np.any``        | N/A                 | Evaluate whether any elements are True        |\n",
    "| ``np.all``        | N/A                 | Evaluate whether all elements are True        |\n",
    "\n",
    "We won't discuss each in detail, but feel free to try them for youself."
   ]
  },
  {
   "cell_type": "markdown",
   "metadata": {},
   "source": [
    "Just to mention 2 things about aggregation functions. \n",
    "\n",
    "**First**, some of them (`sum`, `min`, `max` and some others) can be accessed via method notation, like so:"
   ]
  },
  {
   "cell_type": "code",
   "execution_count": 44,
   "metadata": {},
   "outputs": [
    {
     "name": "stdout",
     "output_type": "stream",
     "text": [
      "Min: 3.5411831977860686e-06\n",
      "Max: 0.9999998888474394\n",
      "Sum: 499860.1415110606\n"
     ]
    }
   ],
   "source": [
    "# print min, max and sum of the array\n",
    "print('Min:', big_array.min())\n",
    "print('Max:', big_array.max())\n",
    "print('Sum:', big_array.sum())"
   ]
  },
  {
   "cell_type": "markdown",
   "metadata": {},
   "source": [
    "You will notice this pattern in Python further, it is quite frequent that you can do something using a function, or a method. Usually there is no difference, but sometimes one approach offers some advantage in terms of code length and/or clarity.\n",
    "\n",
    "And **second**, for multidimensional arrays, you can specify `axis` parameter to make aggregation only over a specific axis. By default, they will aggregate over all the array:"
   ]
  },
  {
   "cell_type": "code",
   "execution_count": 45,
   "metadata": {},
   "outputs": [
    {
     "data": {
      "text/plain": [
       "array([[ 6, 19, 63, 71, 95, 56, 61, 77,  7, 90],\n",
       "       [18, 49, 42, 98, 64, 62, 69, 45, 32, 82],\n",
       "       [69, 71, 79, 63, 69, 10, 82,  7, 22, 81],\n",
       "       [43, 76, 40, 87, 14,  0, 76, 32, 93, 74],\n",
       "       [95, 64, 72, 47, 34,  5, 53, 36, 45, 49]])"
      ]
     },
     "execution_count": 45,
     "metadata": {},
     "output_type": "execute_result"
    }
   ],
   "source": [
    "multi_dim_array = np.random.randint(100, size=(5,10))\n",
    "multi_dim_array"
   ]
  },
  {
   "cell_type": "code",
   "execution_count": 46,
   "metadata": {},
   "outputs": [
    {
     "data": {
      "text/plain": [
       "98"
      ]
     },
     "execution_count": 46,
     "metadata": {},
     "output_type": "execute_result"
    }
   ],
   "source": [
    "# default behavior gives maximum of all elements of the array \n",
    "np.max(multi_dim_array)"
   ]
  },
  {
   "cell_type": "code",
   "execution_count": 47,
   "metadata": {},
   "outputs": [
    {
     "data": {
      "text/plain": [
       "array([95, 76, 79, 98, 95, 62, 82, 77, 93, 90])"
      ]
     },
     "execution_count": 47,
     "metadata": {},
     "output_type": "execute_result"
    }
   ],
   "source": [
    "# specifying axis gives you control over which dimension is aggregated;\n",
    "# in this particular case, the function will give max of every column \n",
    "np.max(multi_dim_array, axis=0)"
   ]
  },
  {
   "cell_type": "markdown",
   "metadata": {
    "collapsed": true
   },
   "source": [
    "# Troubles with floats\n",
    "Example:"
   ]
  },
  {
   "cell_type": "code",
   "execution_count": 48,
   "metadata": {},
   "outputs": [
    {
     "data": {
      "text/plain": [
       "False"
      ]
     },
     "execution_count": 48,
     "metadata": {},
     "output_type": "execute_result"
    }
   ],
   "source": [
    "x = 0.1 + 0.2\n",
    "y = x == 0.3\n",
    "y"
   ]
  },
  {
   "cell_type": "markdown",
   "metadata": {},
   "source": [
    "Why this happens? If you can spare 9 minutes of your time, I suggest you to watch a great explanation on <a href=\"https://www.youtube.com/watch?v=PZRI1IfStY0\">Computerphile</a> youtube channel. You will understand how floating numbers are stored and why the floating arithmetic is not precise.\n",
    "\n",
    "I will attempt to explain it here in a nutshell. The problem is more evident if we just look at what `0.1 + 0.2` gives us:"
   ]
  },
  {
   "cell_type": "code",
   "execution_count": 49,
   "metadata": {
    "scrolled": false
   },
   "outputs": [
    {
     "data": {
      "text/plain": [
       "0.30000000000000004"
      ]
     },
     "execution_count": 49,
     "metadata": {},
     "output_type": "execute_result"
    }
   ],
   "source": [
    "0.1+0.2"
   ]
  },
  {
   "cell_type": "markdown",
   "metadata": {
    "collapsed": true
   },
   "source": [
    "As you can see, there is a marginal error in the end. Why is it there? The answer has to do with how numbers (in particular, `float` type) are stored in memory: they can only store a certain number of *significant digits*. In situations when the precision requires an infinite number of repeating digits, it will fail. It is easier to understand with an analogy between fractions and decimals.\n",
    "\n",
    "Think about a fraction `1/3`. If you try to write it as a decimal, you'd have to write `0.33333333...` and so on. But what if you were able to only store 5 significant digits after `0.`? You'd have to write `0.33333`, that's the best approximation you can do. Now if you try to do arithmetic with `1/3`, let's say `1/3 + 1/3 + 1/3 = 3`. However, if you try to do it in decimal where you can only store 5 significant digits, you'd get `0.99999`.\n",
    "\n",
    "A similar thing happens in the computers when you write any decimals (like `0.1` and `0.2`), because computers cannot store decimal notation in memory, they have to translate them to *binary*. And sometimes with this translation you get a repeating pattern, just like with `0.33333...`. But computers cannot store infinite numbers, they have to cut it after some digits. This introduces errors when working with `float`, and it will happen in any language, because it is a fundamental property of computers.\n",
    "\n",
    "Based on these difficulties, there are 2 fundamental principles one has to keep in mind when working with `float` type.\n",
    "\n",
    "**First**: Never compare equality of floats, this is exactly same mistake which we did in the script from the survey:\n",
    "    \n",
    "    x = 0.1 + 0.2\n",
    "    y = x == 0.3\n",
    "    \n",
    "The result will sometimes be `True`, sometimes `False`, based on which numbers exactly you try, but the point is that it is *inconsistent*, you cannot trust it. It is usually fine to compare which float is larger though. (**Pro-tip**: if you ever do need to compare equality of floats and cannot get around it, there is function called <a href=\"https://docs.scipy.org/doc/numpy-dev/reference/generated/numpy.isclose.html\">`isclose`</a> in the `numpy` package, which will compare two things up to a specified tolerance).\n",
    "\n",
    "**Second**: Be very careful when doing summation or difference between floats of vastly different order: the smaller ones can get lost in the noise. Consider the following example, where we add `0.001` one thousand times to a large number $10^{13}$, and expect to get $10^{13}+1$:"
   ]
  },
  {
   "cell_type": "code",
   "execution_count": null,
   "metadata": {
    "collapsed": true
   },
   "outputs": [],
   "source": [
    "a = 10.0**13\n",
    "for i in range(1000):\n",
    "    a = a + 0.001\n",
    "a"
   ]
  },
  {
   "cell_type": "markdown",
   "metadata": {
    "collapsed": true
   },
   "source": [
    "As you can see, the error is almost the same size as the number we added.\n",
    "\n",
    "**Pro-tip**: if you even need to do very precise operations with `float` type, check out <a href=\"https://docs.python.org/2/library/decimal.html\">`decimal`</a> module in Python)\n",
    "\n",
    "If you want to dig a little deeper on that, check out this really great page: http://floating-point-gui.de/"
   ]
  }
 ],
 "metadata": {
  "kernelspec": {
   "display_name": "Python 3.5",
   "language": "python",
   "name": "py35"
  },
  "language_info": {
   "codemirror_mode": {
    "name": "ipython",
    "version": 3
   },
   "file_extension": ".py",
   "mimetype": "text/x-python",
   "name": "python",
   "nbconvert_exporter": "python",
   "pygments_lexer": "ipython3",
   "version": "3.5.5"
  }
 },
 "nbformat": 4,
 "nbformat_minor": 2
}
