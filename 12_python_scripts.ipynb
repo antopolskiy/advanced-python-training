{
 "cells": [
  {
   "cell_type": "markdown",
   "metadata": {
    "collapsed": true
   },
   "source": [
    "# Prototyping VS production\n",
    "\n",
    "When we are developing some functionality and some analysis, we might do it in the Jupyter notebook, or in another IDE, where we can run pieces of code separately. This is development stage, also called prototyping. However, when we finished creating some functionality, we don't want anymore to fiddle with the environment, change some parameters in the code manually, select line to run, etc. We want clarity, predictability and replicability from our code, because that is the cornerstone of good coding practices (incidentally, it is also the cornerstone of good science practices). For that reason we create scripts.\n",
    "\n",
    "A script is a sequence of code lines which is run from top to bottom in one go, usually from console, without opening any development environment.\n",
    "\n",
    "Scripts are essentially no different from the development code, except for the fact that, after you have finished developing them, they are intended to be run \"as is\", without modifying them every time you need to run them. So they need a different set of controls, as we will see further."
   ]
  },
  {
   "cell_type": "markdown",
   "metadata": {},
   "source": [
    "# Running a script\n",
    "\n",
    "Let's run a very simple script in the console. In the course folder, create a file with name `numpy_version_test.py`. Paste the following content there:"
   ]
  },
  {
   "cell_type": "code",
   "execution_count": 4,
   "metadata": {},
   "outputs": [
    {
     "name": "stdout",
     "output_type": "stream",
     "text": [
      "This environment has numpy as version 1.14.2 installed\n"
     ]
    }
   ],
   "source": [
    "%%writefile numpy_version_test.py\n",
    "import numpy as np\n",
    "print('This environment has numpy version {} installed'.format(np.__version__))"
   ]
  },
  {
   "cell_type": "markdown",
   "metadata": {},
   "source": [
    "Open the terminal in that folder and run\n",
    "\n",
    "    python numpy_version.py\n",
    "    \n",
    "That's all there is to it!"
   ]
  },
  {
   "cell_type": "markdown",
   "metadata": {},
   "source": [
    "# Arguments\n",
    "\n",
    "During the development we may have some variables which values we might change depending on the result we want. It might be the name of the data file to be loaded, or the critical values of the bandpass filter. If we were to create a script which would process the data or do the filtering, we need to a way to give it certain parameters to use for this particular script run.\n",
    "\n",
    "Python has a way of collecting anything you write after the name of the script in a special variable: you need to import module `sys` and its attribute `agrv` will have all of the strings as a list. Run the following cell, with IPython magic you can create files directly from the notebook!"
   ]
  },
  {
   "cell_type": "code",
   "execution_count": 14,
   "metadata": {},
   "outputs": [
    {
     "name": "stdout",
     "output_type": "stream",
     "text": [
      "Overwriting arguments_test.py\n"
     ]
    }
   ],
   "source": [
    "%%writefile arguments_test.py\n",
    "import sys\n",
    "print('Submitted arguments are',sys.argv)"
   ]
  },
  {
   "cell_type": "markdown",
   "metadata": {},
   "source": [
    "With IPython magic you can give console commands directly from the notebook, just use `!` before the command. But I urge you to try running this in console first. Use consoles for large scripts, it will also teach you working with remote machines (you usually have only the console to control these).\n",
    "\n",
    "Run in console:\n",
    "\n",
    "    python arguments_test.py these will be arguments\n",
    "    \n",
    "Try running in the notebook:"
   ]
  },
  {
   "cell_type": "code",
   "execution_count": 29,
   "metadata": {},
   "outputs": [
    {
     "name": "stdout",
     "output_type": "stream",
     "text": [
      "Submitted arguments are ['arguments_test.py', 'these', 'will', 'be', 'arguments']\r\n"
     ]
    }
   ],
   "source": [
    "!python arguments_test.py these will be arguments"
   ]
  },
  {
   "cell_type": "markdown",
   "metadata": {},
   "source": [
    "In this way you can submit the names of files, values for some functions, etc, to the script. Of course you will need to parse them inside the script!"
   ]
  },
  {
   "cell_type": "markdown",
   "metadata": {},
   "source": [
    "# A more advanced way of submitting the arguments\n",
    "\n",
    "Python has an in-build package `argparse`, which implements a smarted system of arguments parsing from the console. It can, for instance, restrict the data type or certain arguments and create default flags. It will also create automatic documentation for the script, based on the arguments descriptions. Consider the following example of parsing arguments from a real application (only the argument parsing part is presented).\n",
    "\n",
    "*From now on I will only use `%run` to run scripts from the notebook, but you should try doing it from the console to get used to it.*"
   ]
  },
  {
   "cell_type": "code",
   "execution_count": 30,
   "metadata": {},
   "outputs": [
    {
     "name": "stdout",
     "output_type": "stream",
     "text": [
      "Overwriting argparse_test.py\n"
     ]
    }
   ],
   "source": [
    "%%writefile argparse_test.py\n",
    "import argparse\n",
    "\n",
    "parser = argparse.ArgumentParser(\n",
    "    description='Plots selected event'\n",
    ")\n",
    "\n",
    "# first argument is required, is of type `str` and can contain multiple values (nargs='+')\n",
    "parser.add_argument(\n",
    "    'event_names',\n",
    "    type=str,\n",
    "    nargs='+',\n",
    "    help='Names of the events',\n",
    ")\n",
    "\n",
    "# second argument is optional (prefaced by --), by default is False (default=False), \n",
    "# but when invoked saves True (action='store_true')\n",
    "parser.add_argument(\n",
    "    '--track',\n",
    "    default=False,\n",
    "    action='store_true',\n",
    "    help='Plot events on map of the track in addition to the time domain',\n",
    ")\n",
    "\n",
    "args = parser.parse_args()\n",
    "\n",
    "print('Was asked to plot the following events:', args.event_names)\n",
    "print('Plot on the map of the track:', args.track)"
   ]
  },
  {
   "cell_type": "code",
   "execution_count": 31,
   "metadata": {},
   "outputs": [
    {
     "name": "stdout",
     "output_type": "stream",
     "text": [
      "Was asked to plot the following events: ['brake']\r\n",
      "Plot on the map of the track: False\r\n"
     ]
    }
   ],
   "source": [
    "!python argparse_test.py brake "
   ]
  },
  {
   "cell_type": "code",
   "execution_count": 32,
   "metadata": {},
   "outputs": [
    {
     "name": "stdout",
     "output_type": "stream",
     "text": [
      "Was asked to plot the following events: ['brake', 'gas']\r\n",
      "Plot on the map of the track: True\r\n"
     ]
    }
   ],
   "source": [
    "!python argparse_test.py brake gas --track"
   ]
  },
  {
   "cell_type": "markdown",
   "metadata": {},
   "source": [
    "It automatically create a very helpful doc for the use of the script:"
   ]
  },
  {
   "cell_type": "code",
   "execution_count": 33,
   "metadata": {},
   "outputs": [
    {
     "name": "stdout",
     "output_type": "stream",
     "text": [
      "usage: argparse_test.py [-h] [--track] event_names [event_names ...]\r\n",
      "\r\n",
      "Plots selected event\r\n",
      "\r\n",
      "positional arguments:\r\n",
      "  event_names  Names of the events\r\n",
      "\r\n",
      "optional arguments:\r\n",
      "  -h, --help   show this help message and exit\r\n",
      "  --track      Plot events on map of the track in addition to the time domain\r\n"
     ]
    }
   ],
   "source": [
    "!python argparse_test.py --help"
   ]
  },
  {
   "cell_type": "markdown",
   "metadata": {},
   "source": [
    "And if the usage is bad, it will correct you:"
   ]
  },
  {
   "cell_type": "code",
   "execution_count": 34,
   "metadata": {},
   "outputs": [
    {
     "name": "stdout",
     "output_type": "stream",
     "text": [
      "usage: argparse_test.py [-h] [--track] event_names [event_names ...]\r\n",
      "argparse_test.py: error: the following arguments are required: event_names\r\n"
     ]
    }
   ],
   "source": [
    "!python argparse_test.py --track"
   ]
  },
  {
   "cell_type": "markdown",
   "metadata": {},
   "source": [
    "`argparse` is capable of much more. Check the documentation in case you need to use it: https://docs.python.org/3/library/argparse.html\n",
    "\n",
    "I highly suggest investing time in using `argparse` for the scripts of any complexity. The only case in which it can skipped is if your script just does 1 thing and requires 1 simple and obvious argument and will not break if 2 arguments are given instead of 1."
   ]
  },
  {
   "cell_type": "markdown",
   "metadata": {},
   "source": [
    "# Running a sequence of scripts\n",
    "Another reason script are useful is because you can create a higher-level system script (\"bash script\"), which will a sequence of scripts for you, with specified arguments. This is especially useful in case of machine learning application for 2 reasons: \n",
    "- large-scale machine learning may take a lot of time, so you might want to set a queue for processing different subjects (without bash scripts you would have to edit your lovely script which is already optimized for running a single subject and make it temporarily ugly to run many subjects)\n",
    "- you will often work on remote servers, because your machine is too slow or doesn't have enough graphical memory; it is useful to create a sequence of commands for the remote computer and disconnect, letting it run; you might also make a small routine to email you once it finishes :) This will be more and more pervasive with the advent of computing cloud services by Amazon, Google and Microsoft.\n",
    "\n",
    "Running a sequence of script is as easy as creating a `.sh` file with all the commands you want to run, like so:"
   ]
  },
  {
   "cell_type": "code",
   "execution_count": 26,
   "metadata": {},
   "outputs": [
    {
     "name": "stdout",
     "output_type": "stream",
     "text": [
      "Overwriting bash_test.sh\n"
     ]
    }
   ],
   "source": [
    "%%writefile bash_test.sh\n",
    "python numpy_version.py\n",
    "echo # prints an empty line\n",
    "python arguments_test.py blah blah\n",
    "echo\n",
    "python argparse_test.py --help\n",
    "echo\n",
    "python argparse_test.py gas --track"
   ]
  },
  {
   "cell_type": "markdown",
   "metadata": {},
   "source": [
    "Try running the file by typing in the console:\n",
    "\n",
    "    ./bash_test.sh\n",
    "    \n",
    "You should see the out all of the previous functions, separated by a single empty line.\n",
    "\n",
    "You can do it from Jupyter as well:"
   ]
  },
  {
   "cell_type": "code",
   "execution_count": 28,
   "metadata": {},
   "outputs": [
    {
     "name": "stdout",
     "output_type": "stream",
     "text": [
      "This environment has numpy version 1.13.3 installed\n",
      " \n",
      "Submitted arguments are ['arguments_test.py', 'blah', 'blah']\n",
      " \n",
      "usage: argparse_test.py [-h] [--track] event_names [event_names ...]\n",
      "\n",
      "Plot selected event\n",
      "\n",
      "positional arguments:\n",
      "  event_names  Names of the events\n",
      "\n",
      "optional arguments:\n",
      "  -h, --help   show this help message and exit\n",
      "  --track      Plot events on map of the track in addition to the time domain\n",
      " \n",
      "Was asked to plot the following events: ['gas']\n",
      "Plot on the map of the track: True\n"
     ]
    }
   ],
   "source": [
    "!./bash_test.sh"
   ]
  }
 ],
 "metadata": {
  "kernelspec": {
   "display_name": "Python 3.5",
   "language": "python",
   "name": "py35"
  },
  "language_info": {
   "codemirror_mode": {
    "name": "ipython",
    "version": 3
   },
   "file_extension": ".py",
   "mimetype": "text/x-python",
   "name": "python",
   "nbconvert_exporter": "python",
   "pygments_lexer": "ipython3",
   "version": "3.5.5"
  }
 },
 "nbformat": 4,
 "nbformat_minor": 2
}
