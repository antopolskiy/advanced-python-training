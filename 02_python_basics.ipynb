{
 "cells": [
  {
   "cell_type": "markdown",
   "metadata": {},
   "source": [
    "# What `Python` is...\n",
    "\n",
    "- Interpretable\n",
    "- High-level\n",
    "- (Relatively) easy to learn\n",
    "- Very popular (web, data science and more) -> a lot of resources, tutorials, etc\n",
    "<img src=\"img/python-usage.svg\">\n",
    "\n",
    "...and what it is not:\n",
    "\n",
    "- NOT the most efficient language (speed/memory), but it pretty good if you do things the right way\n",
    "- NOT very straightforward (can behave in somewhat unpredictable ways, may try to coerce errors, instead of raising, example: `numpy` broadcasting)\n",
    "\n"
   ]
  },
  {
   "cell_type": "markdown",
   "metadata": {},
   "source": [
    "# Basics overview"
   ]
  },
  {
   "cell_type": "markdown",
   "metadata": {},
   "source": [
    "## Notebook's cell output\n",
    "\n",
    "As you noticed, a cell will display output of the script inside, when you run. However, it will display only the output of the **last** line. If last line doesn't have output, it won't display anything. Compare the following two cells:"
   ]
  },
  {
   "cell_type": "code",
   "execution_count": 1,
   "metadata": {},
   "outputs": [
    {
     "data": {
      "text/plain": [
       "10"
      ]
     },
     "execution_count": 1,
     "metadata": {},
     "output_type": "execute_result"
    }
   ],
   "source": [
    "x = 10\n",
    "x"
   ]
  },
  {
   "cell_type": "code",
   "execution_count": 2,
   "metadata": {
    "collapsed": true
   },
   "outputs": [],
   "source": [
    "x = 10\n",
    "x\n",
    "y = 9"
   ]
  },
  {
   "cell_type": "markdown",
   "metadata": {},
   "source": [
    "If you want to actually display something, you need to say it explicitly with `print` function. Note that in this case the message is not an \"output\" *per se* (which you can notice by the fact that on the left it doesn't say `Out[]:`), it is just printed. You can `print` infinitely many things, but show output of only one per cell."
   ]
  },
  {
   "cell_type": "code",
   "execution_count": 3,
   "metadata": {},
   "outputs": [
    {
     "name": "stdout",
     "output_type": "stream",
     "text": [
      "10\n"
     ]
    },
    {
     "data": {
      "text/plain": [
       "5"
      ]
     },
     "execution_count": 3,
     "metadata": {},
     "output_type": "execute_result"
    }
   ],
   "source": [
    "x = 10\n",
    "\n",
    "# this value is just printed\n",
    "print(x)\n",
    "\n",
    "y = 5\n",
    "\n",
    "# this is going to be displayed as an output\n",
    "y"
   ]
  },
  {
   "cell_type": "markdown",
   "metadata": {},
   "source": [
    "**Pro-tip**: When you're not sure what the function's output, just put it in a separate cell and run it. If it has an output, if will show up as an output of the cell."
   ]
  },
  {
   "cell_type": "markdown",
   "metadata": {},
   "source": [
    "## Container data types"
   ]
  },
  {
   "cell_type": "markdown",
   "metadata": {},
   "source": [
    "### Lists"
   ]
  },
  {
   "cell_type": "code",
   "execution_count": 30,
   "metadata": {},
   "outputs": [
    {
     "data": {
      "text/plain": [
       "[0, 5, 10, 15, 20]"
      ]
     },
     "execution_count": 30,
     "metadata": {},
     "output_type": "execute_result"
    }
   ],
   "source": [
    "X = [0,5,10,15,20]\n",
    "X"
   ]
  },
  {
   "cell_type": "code",
   "execution_count": 32,
   "metadata": {},
   "outputs": [
    {
     "data": {
      "text/plain": [
       "10"
      ]
     },
     "execution_count": 32,
     "metadata": {},
     "output_type": "execute_result"
    }
   ],
   "source": [
    "X[2]"
   ]
  },
  {
   "cell_type": "code",
   "execution_count": 34,
   "metadata": {},
   "outputs": [
    {
     "data": {
      "text/plain": [
       "[0, 5, 10, -99, 20]"
      ]
     },
     "execution_count": 34,
     "metadata": {},
     "output_type": "execute_result"
    }
   ],
   "source": [
    "X[3] = -99\n",
    "X"
   ]
  },
  {
   "cell_type": "code",
   "execution_count": 49,
   "metadata": {},
   "outputs": [
    {
     "data": {
      "text/plain": [
       "20"
      ]
     },
     "execution_count": 49,
     "metadata": {},
     "output_type": "execute_result"
    }
   ],
   "source": [
    "X[-1]"
   ]
  },
  {
   "cell_type": "code",
   "execution_count": 50,
   "metadata": {},
   "outputs": [
    {
     "data": {
      "text/plain": [
       "[5, 10, -99]"
      ]
     },
     "execution_count": 50,
     "metadata": {},
     "output_type": "execute_result"
    }
   ],
   "source": [
    "X[1:4]"
   ]
  },
  {
   "cell_type": "markdown",
   "metadata": {},
   "source": [
    "#### A note on assignment\n",
    "\n",
    "Variables allow you to store value. Or do they? In fact, variables are just a pointer (a *reference*) to an object in memory. Here is an example which can be confusing to a novice:"
   ]
  },
  {
   "cell_type": "code",
   "execution_count": 52,
   "metadata": {
    "scrolled": false
   },
   "outputs": [
    {
     "name": "stdout",
     "output_type": "stream",
     "text": [
      "[0, -999, 10, 15, 20]\n",
      "[0, -999, 10, 15, 20]\n"
     ]
    }
   ],
   "source": [
    "X = [0,5,10,15,20]\n",
    "Y = X\n",
    "Y[1] = -999\n",
    "\n",
    "print(X)\n",
    "print(Y)"
   ]
  },
  {
   "cell_type": "markdown",
   "metadata": {},
   "source": [
    "What happens here? We created a list in memory, and variable `X` points to that object. Variable `Y` is assigned the same value as `X`, but the list is not copied, rather `Y` merely points to the same object. We modify the list through `Y` and discover that `X` still points to the same object.\n",
    "\n",
    "If you want to avoid this, use explicit `.copy()` method on the list:"
   ]
  },
  {
   "cell_type": "code",
   "execution_count": 5,
   "metadata": {},
   "outputs": [
    {
     "name": "stdout",
     "output_type": "stream",
     "text": [
      "[0, 5, 10, 15, 20]\n",
      "[0, -999, 10, 15, 20]\n"
     ]
    }
   ],
   "source": [
    "X = [0,5,10,15,20]\n",
    "Y = X.copy()\n",
    "Y[1] = -999\n",
    "print(X)\n",
    "print(Y)"
   ]
  },
  {
   "cell_type": "markdown",
   "metadata": {},
   "source": [
    "This is an example of Python giving you more control over memory and pointers. In Matlab and R default behavior is to copy an object, which can lead to some serious memory replication (using a lot of memory for copies of the same objects). Control is good but you need to be aware of this behavior."
   ]
  },
  {
   "cell_type": "markdown",
   "metadata": {},
   "source": [
    "### Tuples: immutable lists"
   ]
  },
  {
   "cell_type": "markdown",
   "metadata": {},
   "source": [
    "We already learned about `list`: they are containers for different types of stuff. There is another type of *in-built* contained data type, called `tuple`. They are denoted with parentheses `()` instead of brakets `[]`. "
   ]
  },
  {
   "cell_type": "code",
   "execution_count": 23,
   "metadata": {},
   "outputs": [
    {
     "data": {
      "text/plain": [
       "('Sergey', 28, 'Russian', 1989, 1, 9)"
      ]
     },
     "execution_count": 23,
     "metadata": {},
     "output_type": "execute_result"
    }
   ],
   "source": [
    "# make a tuple\n",
    "info = ('Sergey', 28, 'Russian', 1989, 1, 9)\n",
    "info"
   ]
  },
  {
   "cell_type": "code",
   "execution_count": 24,
   "metadata": {},
   "outputs": [
    {
     "data": {
      "text/plain": [
       "tuple"
      ]
     },
     "execution_count": 24,
     "metadata": {},
     "output_type": "execute_result"
    }
   ],
   "source": [
    "type(info)"
   ]
  },
  {
   "cell_type": "markdown",
   "metadata": {},
   "source": [
    "Tuples are very much like lists, except one thing -- they cannot be changed like lists, here is an example:"
   ]
  },
  {
   "cell_type": "code",
   "execution_count": 25,
   "metadata": {},
   "outputs": [
    {
     "data": {
      "text/plain": [
       "['Sergey', 28, 'Russian', 1989, 1, 9]"
      ]
     },
     "execution_count": 25,
     "metadata": {},
     "output_type": "execute_result"
    }
   ],
   "source": [
    "# let's make a list out of our tuple:\n",
    "info_list = list(info)\n",
    "info_list"
   ]
  },
  {
   "cell_type": "code",
   "execution_count": 26,
   "metadata": {},
   "outputs": [
    {
     "data": {
      "text/plain": [
       "list"
      ]
     },
     "execution_count": 26,
     "metadata": {},
     "output_type": "execute_result"
    }
   ],
   "source": [
    "type(info_list)"
   ]
  },
  {
   "cell_type": "code",
   "execution_count": 27,
   "metadata": {},
   "outputs": [
    {
     "data": {
      "text/plain": [
       "['Sergey', 29, 'Russian', 1989, 1, 9]"
      ]
     },
     "execution_count": 27,
     "metadata": {},
     "output_type": "execute_result"
    }
   ],
   "source": [
    "# now try to change something in it: it works\n",
    "info_list[1] = 29\n",
    "info_list"
   ]
  },
  {
   "cell_type": "code",
   "execution_count": 28,
   "metadata": {},
   "outputs": [
    {
     "ename": "TypeError",
     "evalue": "'tuple' object does not support item assignment",
     "output_type": "error",
     "traceback": [
      "\u001b[0;31m---------------------------------------------------------------------------\u001b[0m",
      "\u001b[0;31mTypeError\u001b[0m                                 Traceback (most recent call last)",
      "\u001b[0;32m<ipython-input-28-4867cdca6aa1>\u001b[0m in \u001b[0;36m<module>\u001b[0;34m()\u001b[0m\n\u001b[1;32m      1\u001b[0m \u001b[0;31m# let's try to do the same with tuple\u001b[0m\u001b[0;34m\u001b[0m\u001b[0;34m\u001b[0m\u001b[0m\n\u001b[0;32m----> 2\u001b[0;31m \u001b[0minfo\u001b[0m\u001b[0;34m[\u001b[0m\u001b[0;36m1\u001b[0m\u001b[0;34m]\u001b[0m \u001b[0;34m=\u001b[0m \u001b[0;36m29\u001b[0m\u001b[0;34m\u001b[0m\u001b[0m\n\u001b[0m",
      "\u001b[0;31mTypeError\u001b[0m: 'tuple' object does not support item assignment"
     ]
    }
   ],
   "source": [
    "# let's try to do the same with tuple\n",
    "info[1] = 29"
   ]
  },
  {
   "cell_type": "markdown",
   "metadata": {},
   "source": [
    "We get an error if we try to change some value in a tuple. The same if we try to add something to it. \n",
    "\n",
    "A good question would be -- why do we need to have exactly the same thing as `list`, but which can do LESS than a `list`? It turns out that for many reasons it is very convenient to have some data type, which cannot be changed. We won't go into details here, but if you have something which you don't intend to change, consider making it a `tuple` instead of a `list`. In the very least you won't change it *accidentally*."
   ]
  },
  {
   "cell_type": "markdown",
   "metadata": {},
   "source": [
    "### Strings"
   ]
  },
  {
   "cell_type": "code",
   "execution_count": 45,
   "metadata": {
    "collapsed": true
   },
   "outputs": [],
   "source": [
    "my_string = 'alphabet'"
   ]
  },
  {
   "cell_type": "code",
   "execution_count": 46,
   "metadata": {},
   "outputs": [
    {
     "data": {
      "text/plain": [
       "'a'"
      ]
     },
     "execution_count": 46,
     "metadata": {},
     "output_type": "execute_result"
    }
   ],
   "source": [
    "my_string[0]"
   ]
  },
  {
   "cell_type": "code",
   "execution_count": 48,
   "metadata": {},
   "outputs": [
    {
     "data": {
      "text/plain": [
       "'l'"
      ]
     },
     "execution_count": 48,
     "metadata": {},
     "output_type": "execute_result"
    }
   ],
   "source": [
    "my_string[1]"
   ]
  },
  {
   "cell_type": "markdown",
   "metadata": {},
   "source": [
    "### Mapping data types"
   ]
  },
  {
   "cell_type": "markdown",
   "metadata": {},
   "source": [
    "Another *in-built* container data type is `dict` (short for *dictionary*). `Dict` contains **pairs of things**. Any entry in a `dict` is pair `key`:`value` (in programming this relationship is called *mapping*: a value maps onto the key). Think about it as a real world dictionary -- in an English-Italian dictionary you have a `key` word, e.g. **shirt**, and a `value`, associated with it: **camicia**. And you can find a `value` by addressing the `key`. Just like in the real dictionary, you cannot go the other way and find the word **shirt** by looking up **camicia** -- you would need another, Italian-English dictionary for that. Same with `dict`: `keys` and `values` are not symmetric, you can only get them in one direction `key`->`value`.\n",
    "\n",
    "Syntax for a `dict` is to put `key:value` pairs inside curly brackets `{}`, with different pairs separated by comma:"
   ]
  },
  {
   "cell_type": "code",
   "execution_count": 13,
   "metadata": {},
   "outputs": [
    {
     "data": {
      "text/plain": [
       "{'shirt': 'camicia'}"
      ]
     },
     "execution_count": 13,
     "metadata": {},
     "output_type": "execute_result"
    }
   ],
   "source": [
    "{'shirt':'camicia'}"
   ]
  },
  {
   "cell_type": "code",
   "execution_count": 14,
   "metadata": {},
   "outputs": [
    {
     "data": {
      "text/plain": [
       "{'lab': 'Diamond',\n",
       " 'languages': ['Matlab', 'C++'],\n",
       " 'name': 'Adina',\n",
       " 'surname': 'Drumea'}"
      ]
     },
     "execution_count": 14,
     "metadata": {},
     "output_type": "execute_result"
    }
   ],
   "source": [
    "info = {'name':'Adina', 'surname':'Drumea', 'lab':'Diamond', 'languages': ['Matlab','C++']}\n",
    "info"
   ]
  },
  {
   "cell_type": "markdown",
   "metadata": {},
   "source": [
    "Another way of defining a `dict`. Results are equivalent, so choose whatever you like. Note in this case `keys` need not be strings, but they become strings in the dict:"
   ]
  },
  {
   "cell_type": "code",
   "execution_count": 16,
   "metadata": {},
   "outputs": [
    {
     "data": {
      "text/plain": [
       "{'lab': 'Diamond',\n",
       " 'languages': ['Matlab', 'C++'],\n",
       " 'name': 'Adina',\n",
       " 'surname': 'Drumea'}"
      ]
     },
     "execution_count": 16,
     "metadata": {},
     "output_type": "execute_result"
    }
   ],
   "source": [
    "info = dict(name='Adina', surname='Drumea', lab='Diamond', languages=['Matlab','C++'])\n",
    "info"
   ]
  },
  {
   "cell_type": "markdown",
   "metadata": {},
   "source": [
    "We can retrieve values from `dict` by specifying `key` like this:"
   ]
  },
  {
   "cell_type": "code",
   "execution_count": null,
   "metadata": {
    "collapsed": true
   },
   "outputs": [],
   "source": [
    "info['surname']"
   ]
  },
  {
   "cell_type": "code",
   "execution_count": null,
   "metadata": {
    "collapsed": true
   },
   "outputs": [],
   "source": [
    "info['taken_prog_class']"
   ]
  },
  {
   "cell_type": "markdown",
   "metadata": {
    "collapsed": true
   },
   "source": [
    "**Note**: Both `key` and `value` can be of any type (with only exception that `keys` cannot be `list` and some other *modifiable* types; this has to do with implementation of `dict` in Python). If `key` repeats, it will override:"
   ]
  },
  {
   "cell_type": "code",
   "execution_count": null,
   "metadata": {
    "collapsed": true
   },
   "outputs": [],
   "source": [
    "{'name':'Adina', 'name':'Marinella'}"
   ]
  },
  {
   "cell_type": "markdown",
   "metadata": {},
   "source": [
    "Besides storing and retrieving values from `dict`, you can also iterate through `keys` and `values` easily:"
   ]
  },
  {
   "cell_type": "code",
   "execution_count": null,
   "metadata": {
    "collapsed": true
   },
   "outputs": [],
   "source": [
    "for (key, value) in info.items():\n",
    "    print('The key was:', key)\n",
    "    print('The value was:', value)\n",
    "    print('')"
   ]
  },
  {
   "cell_type": "markdown",
   "metadata": {},
   "source": [
    "`dict` supports a lot of different operations (check full documentation <a href=\"https://docs.python.org/2/library/stdtypes.html#mapping-types-dict\">here</a>). Here are some of them:"
   ]
  },
  {
   "cell_type": "code",
   "execution_count": null,
   "metadata": {
    "collapsed": true
   },
   "outputs": [],
   "source": [
    "# check whether certain key is in the dict\n",
    "'surname' in info"
   ]
  },
  {
   "cell_type": "code",
   "execution_count": null,
   "metadata": {
    "collapsed": true
   },
   "outputs": [],
   "source": [
    "'age' in info"
   ]
  },
  {
   "cell_type": "code",
   "execution_count": null,
   "metadata": {
    "collapsed": true
   },
   "outputs": [],
   "source": [
    "# return list of keys\n",
    "info.keys()"
   ]
  },
  {
   "cell_type": "code",
   "execution_count": null,
   "metadata": {
    "collapsed": true
   },
   "outputs": [],
   "source": [
    "# return list of values\n",
    "info.values()"
   ]
  },
  {
   "cell_type": "code",
   "execution_count": null,
   "metadata": {
    "collapsed": true
   },
   "outputs": [],
   "source": [
    "# add stuff to the dict\n",
    "info.update({'age':28, 'rooms':324})"
   ]
  },
  {
   "cell_type": "code",
   "execution_count": null,
   "metadata": {
    "collapsed": true
   },
   "outputs": [],
   "source": [
    "# removing stuff from the dict\n",
    "del info['taken_prog_class']"
   ]
  },
  {
   "cell_type": "code",
   "execution_count": null,
   "metadata": {
    "collapsed": true
   },
   "outputs": [],
   "source": [
    "info"
   ]
  },
  {
   "cell_type": "markdown",
   "metadata": {},
   "source": [
    "**Note**: The most attentive of you will notice that order of the `key`:`value` pairs has changed when we updated the `dict`. This shows potential pitfall of using `dict`, which you have to be careful about: **`dict` does NOT store the order of inserted pair**! For example, if you try to iterate through the values in the dict (using, you cannot trust that it will iterate in the order in which you inserted the pairs. \n",
    "\n",
    "If ever you need to use mapping type which remembers the order, take a look at <a href=\"https://docs.python.org/2/library/collections.html#collections.OrderedDict\">`OrderedDict` from `collections` module</a>. It operates the same way as `dict`, but will keep the order if you iterate."
   ]
  },
  {
   "cell_type": "code",
   "execution_count": 39,
   "metadata": {},
   "outputs": [
    {
     "data": {
      "text/plain": [
       "OrderedDict([('surname', 'Drumea'),\n",
       "             ('languages', ['Matlab', 'C++']),\n",
       "             ('lab', 'Diamond'),\n",
       "             ('name', 'Adina')])"
      ]
     },
     "execution_count": 39,
     "metadata": {},
     "output_type": "execute_result"
    }
   ],
   "source": [
    "from collections import OrderedDict\n",
    "info_ordered = OrderedDict(name='Adina', surname='Drumea', lab='Diamond', languages=['Matlab','C++'])\n",
    "info_orderedfrom collections import OrderedDict\n",
    "info_ordered = OrderedDict(name='Adina', surname='Drumea', lab='Diamond', taken_prog_class=False, languages=['Matlab','C++'])\n",
    "info_ordered\n",
    "\n",
    "for key, value in info_ordered.items():\n",
    "    print(key, value)"
   ]
  },
  {
   "cell_type": "code",
   "execution_count": 40,
   "metadata": {},
   "outputs": [
    {
     "name": "stdout",
     "output_type": "stream",
     "text": [
      "surname Drumea\n",
      "languages ['Matlab', 'C++']\n",
      "lab Diamond\n",
      "name Adina\n"
     ]
    }
   ],
   "source": [
    "for key, value in info_ordered.items():\n",
    "    print(key, value)"
   ]
  },
  {
   "cell_type": "markdown",
   "metadata": {},
   "source": [
    "## `for` loops and list comprehensions"
   ]
  },
  {
   "cell_type": "markdown",
   "metadata": {},
   "source": [
    "In Python there is a number of syntax simplifications, which can be used to speed up coding. You will learn those over time, but there is one particularly useful shortcut called *list comprehensions*, which not only speeds up the coding, but also significantly improves code readability. As a consequence it is used ubiquitously. \n",
    "\n",
    "It has to do with how we write `for` loops. In particular, consider the following (real life) example. Let's say I recored behavior in a bunch of rats, and for each session I have a name, which contains year, month, day of the session and the codename of the rat in the following format: YYYYMMDDratcode. Example: `20170114S8`, where `S8` is the name of the rat."
   ]
  },
  {
   "cell_type": "code",
   "execution_count": 41,
   "metadata": {},
   "outputs": [
    {
     "data": {
      "text/plain": [
       "['20160701S8',\n",
       " '20160702S9',\n",
       " '20160702S8',\n",
       " '20160703S10',\n",
       " '20160703S9',\n",
       " '20160703S8']"
      ]
     },
     "execution_count": 41,
     "metadata": {},
     "output_type": "execute_result"
    }
   ],
   "source": [
    "sessions = ['20160701S8', '20160702S9', '20160702S8','20160703S10', '20160703S9', '20160703S8']\n",
    "sessions"
   ]
  },
  {
   "cell_type": "markdown",
   "metadata": {},
   "source": [
    "Now I just want to get the dates of the session, so that I can see on which days I recorded at least 1 rat. I could construct the following loop:\n",
    "\n",
    ">**Syntax tip**: `append(x)` is a method of type `list`, which will add `x` in the end of the `list`."
   ]
  },
  {
   "cell_type": "code",
   "execution_count": 42,
   "metadata": {},
   "outputs": [
    {
     "data": {
      "text/plain": [
       "['20160701', '20160702', '20160702', '20160703', '20160703', '20160703']"
      ]
     },
     "execution_count": 42,
     "metadata": {},
     "output_type": "execute_result"
    }
   ],
   "source": [
    "# create a new empty list, which we will append later\n",
    "sessions_date = []\n",
    "# iterate through every session\n",
    "for s in sessions:\n",
    "    # append the new list with the first 8 characters from the session name\n",
    "    sessions_date.append(s[:8])\n",
    "    \n",
    "sessions_date"
   ]
  },
  {
   "cell_type": "markdown",
   "metadata": {},
   "source": [
    "Possible, but a bit too tedious. Especially the part where you have to create an empty `list` and then append values there. There is a better way in Python:"
   ]
  },
  {
   "cell_type": "code",
   "execution_count": 43,
   "metadata": {},
   "outputs": [
    {
     "data": {
      "text/plain": [
       "['20160701', '20160702', '20160702', '20160703', '20160703', '20160703']"
      ]
     },
     "execution_count": 43,
     "metadata": {},
     "output_type": "execute_result"
    }
   ],
   "source": [
    "[s[:8] for s in sessions]"
   ]
  },
  {
   "cell_type": "markdown",
   "metadata": {},
   "source": [
    "This produces the same exact output, but instead of taking several lines it just takes one. It is also quite easy to read once you get a hang of it. See `for s in sessions`, which is exactly the same as in the long `for` loop above, and it does the same thing: iterates through values of the `sessions`, and on each iteration `s` takes value from the list, one after another. And for each iteration, you return `s[:8]`, which is the first 8 characters from `s`. These values are automatically captured in the list. You can assign it to a variable in the same way as any other list:"
   ]
  },
  {
   "cell_type": "code",
   "execution_count": 44,
   "metadata": {},
   "outputs": [
    {
     "data": {
      "text/plain": [
       "['20160701', '20160702', '20160702', '20160703', '20160703', '20160703']"
      ]
     },
     "execution_count": 44,
     "metadata": {},
     "output_type": "execute_result"
    }
   ],
   "source": [
    "sessions_date = [s[:8] for s in sessions]\n",
    "sessions_date"
   ]
  },
  {
   "cell_type": "markdown",
   "metadata": {},
   "source": [
    "**Side note**: To follow through with the example, if I wanted to get unique days of the recording, I can use a function `unique` from `numpy` module, which will return only the unique values:"
   ]
  },
  {
   "cell_type": "code",
   "execution_count": null,
   "metadata": {
    "collapsed": true
   },
   "outputs": [],
   "source": [
    "from numpy import unique\n",
    "print(unique(sessions_date))"
   ]
  },
  {
   "cell_type": "markdown",
   "metadata": {},
   "source": [
    "*List comprehensions* (or *listcomps* for short) will save you a lot of time and space in your script. You can even do some conditional things inside. Let's say I wanted to return the date ONLY for the rat `S9`. I can use `in` to check presence of a sub-string in a larger string like so:"
   ]
  },
  {
   "cell_type": "code",
   "execution_count": null,
   "metadata": {
    "collapsed": true
   },
   "outputs": [],
   "source": [
    "s = '20160701S9'\n",
    "'S9' in s"
   ]
  },
  {
   "cell_type": "markdown",
   "metadata": {},
   "source": [
    "However to go through all sessions and check, I would need a `for` loop with `if` inside (if you want, try to implement it like that as an exercise). Instead we can do the same with listcomp:"
   ]
  },
  {
   "cell_type": "code",
   "execution_count": null,
   "metadata": {
    "collapsed": true
   },
   "outputs": [],
   "source": [
    "[s[:8] for s in sessions if 'S9' in s]"
   ]
  },
  {
   "cell_type": "markdown",
   "metadata": {},
   "source": [
    "## Functions with default arguments"
   ]
  },
  {
   "cell_type": "markdown",
   "metadata": {},
   "source": [
    "We saw how to create basic functions. One additional useful trick is to have a function with default arguments. That is, when you call the fucntion, you can specify the argument if you want, but you can also skip it, and it will take on some default value. It is very easy to do in Python: when you define the function's arguments, simple write `<argument-name> = <default-value>` and the argument will take this value if no other value is specified when the function is called. \n",
    "\n",
    "Let's see an example. By default, the following function raises `x` to the power `p`. However, there is a twist, you can specify additional argument `verbose`, and if it is `True`, the function will print out what it does. (It is a good practice to add these kinds of options to your functions, because they can help you debug the errors in your code)."
   ]
  },
  {
   "cell_type": "code",
   "execution_count": 54,
   "metadata": {
    "collapsed": true
   },
   "outputs": [],
   "source": [
    "def power(x, p, verbose=False):\n",
    "    if verbose:\n",
    "        print(\"evaluating power for x = \" + str(x) + \" using exponent p = \" + str(p))\n",
    "    return x**p"
   ]
  },
  {
   "cell_type": "code",
   "execution_count": 55,
   "metadata": {},
   "outputs": [
    {
     "data": {
      "text/plain": [
       "25"
      ]
     },
     "execution_count": 55,
     "metadata": {},
     "output_type": "execute_result"
    }
   ],
   "source": [
    "# we can use the function to just raise 5 to power 2 (equivalent to 5**2)\n",
    "power(5,2)"
   ]
  },
  {
   "cell_type": "code",
   "execution_count": 56,
   "metadata": {},
   "outputs": [
    {
     "name": "stdout",
     "output_type": "stream",
     "text": [
      "evaluating power for x = 5 using exponent p = 2\n"
     ]
    },
    {
     "data": {
      "text/plain": [
       "25"
      ]
     },
     "execution_count": 56,
     "metadata": {},
     "output_type": "execute_result"
    }
   ],
   "source": [
    "# but we can also make the function \"verbose\", so it tells us what it does\n",
    "power(5,2,True)"
   ]
  },
  {
   "cell_type": "markdown",
   "metadata": {},
   "source": [
    "Any number of arguments can have default values, even all of them. Try to understand which values each argument takes and what the function outputs in the following cells:"
   ]
  },
  {
   "cell_type": "code",
   "execution_count": 57,
   "metadata": {
    "collapsed": true
   },
   "outputs": [],
   "source": [
    "def power(x=5, p=2, verbose=False):\n",
    "    if verbose:\n",
    "        print(\"evaluating power for x = \" + str(x) + \" using exponent p = \" + str(p))\n",
    "    return x**p"
   ]
  },
  {
   "cell_type": "code",
   "execution_count": 58,
   "metadata": {},
   "outputs": [
    {
     "data": {
      "text/plain": [
       "25"
      ]
     },
     "execution_count": 58,
     "metadata": {},
     "output_type": "execute_result"
    }
   ],
   "source": [
    "power()"
   ]
  },
  {
   "cell_type": "code",
   "execution_count": 59,
   "metadata": {},
   "outputs": [
    {
     "data": {
      "text/plain": [
       "36"
      ]
     },
     "execution_count": 59,
     "metadata": {},
     "output_type": "execute_result"
    }
   ],
   "source": [
    "power(6)"
   ]
  },
  {
   "cell_type": "code",
   "execution_count": 60,
   "metadata": {},
   "outputs": [
    {
     "data": {
      "text/plain": [
       "216"
      ]
     },
     "execution_count": 60,
     "metadata": {},
     "output_type": "execute_result"
    }
   ],
   "source": [
    "power(6,3)"
   ]
  },
  {
   "cell_type": "code",
   "execution_count": 61,
   "metadata": {},
   "outputs": [
    {
     "name": "stdout",
     "output_type": "stream",
     "text": [
      "evaluating power for x = 6 using exponent p = 3\n"
     ]
    },
    {
     "data": {
      "text/plain": [
       "216"
      ]
     },
     "execution_count": 61,
     "metadata": {},
     "output_type": "execute_result"
    }
   ],
   "source": [
    "power(6,3,True)"
   ]
  },
  {
   "cell_type": "markdown",
   "metadata": {},
   "source": [
    "## Positional arguments as keyword arguments"
   ]
  },
  {
   "cell_type": "markdown",
   "metadata": {},
   "source": [
    "When you're creating the function, you always specify the names of the arguments so that you can use them inside the function. These names have another use: when you call the function, you can pass values by using argument names, for example:"
   ]
  },
  {
   "cell_type": "code",
   "execution_count": 62,
   "metadata": {},
   "outputs": [
    {
     "data": {
      "text/plain": [
       "1000"
      ]
     },
     "execution_count": 62,
     "metadata": {},
     "output_type": "execute_result"
    }
   ],
   "source": [
    "power(x=10, p=3, verbose=False)"
   ]
  },
  {
   "cell_type": "code",
   "execution_count": 63,
   "metadata": {},
   "outputs": [
    {
     "data": {
      "text/plain": [
       "59049"
      ]
     },
     "execution_count": 63,
     "metadata": {},
     "output_type": "execute_result"
    }
   ],
   "source": [
    "power(x=3, p=10, verbose=False)"
   ]
  },
  {
   "cell_type": "markdown",
   "metadata": {},
   "source": [
    "Why would we do it? First, it leads to clearer function calls, you don't need to remember that first argument was `x`, and second was `p`, etc. However, more importantly, if you can only pass arguments based on position, you cannot keep default value for an argument while specifying a non-default value to the argument after that.\n",
    "\n",
    "Consider the following example: what if I wanted to call own function `power()` with default `x` and `p`, but specifying `verbose=True`? I cannot do `power(True)`, in that case `True` will become the value of `x`, because it is the first argument. But what I can do is the following:"
   ]
  },
  {
   "cell_type": "code",
   "execution_count": 64,
   "metadata": {},
   "outputs": [
    {
     "name": "stdout",
     "output_type": "stream",
     "text": [
      "evaluating power for x = 5 using exponent p = 2\n"
     ]
    },
    {
     "data": {
      "text/plain": [
       "25"
      ]
     },
     "execution_count": 64,
     "metadata": {},
     "output_type": "execute_result"
    }
   ],
   "source": [
    "power(verbose=True)"
   ]
  },
  {
   "cell_type": "markdown",
   "metadata": {},
   "source": [
    "In that case both `x` and `p` keep their default values. This is extremely useful for functions with many parameters.\n",
    "\n",
    "Moreover, if I use this type of passing arguments (which is called *keyword arguments* as opposed to *positional arguments*), I don't need to care about the order at all:"
   ]
  },
  {
   "cell_type": "code",
   "execution_count": 65,
   "metadata": {},
   "outputs": [
    {
     "name": "stdout",
     "output_type": "stream",
     "text": [
      "evaluating power for x = 9 using exponent p = 2\n"
     ]
    },
    {
     "data": {
      "text/plain": [
       "81"
      ]
     },
     "execution_count": 65,
     "metadata": {},
     "output_type": "execute_result"
    }
   ],
   "source": [
    "power(verbose=True, x=9, p=2)"
   ]
  },
  {
   "cell_type": "code",
   "execution_count": 66,
   "metadata": {},
   "outputs": [
    {
     "name": "stdout",
     "output_type": "stream",
     "text": [
      "evaluating power for x = 9 using exponent p = 2\n"
     ]
    },
    {
     "data": {
      "text/plain": [
       "81"
      ]
     },
     "execution_count": 66,
     "metadata": {},
     "output_type": "execute_result"
    }
   ],
   "source": [
    "# same call as before: order doesn't matter\n",
    "power(p=2, verbose=True, x=9)"
   ]
  },
  {
   "cell_type": "markdown",
   "metadata": {},
   "source": [
    "You can also combine *keyword* and *positional* arguments:"
   ]
  },
  {
   "cell_type": "code",
   "execution_count": 67,
   "metadata": {},
   "outputs": [
    {
     "name": "stdout",
     "output_type": "stream",
     "text": [
      "evaluating power for x = 10 using exponent p = 2\n"
     ]
    },
    {
     "data": {
      "text/plain": [
       "100"
      ]
     },
     "execution_count": 67,
     "metadata": {},
     "output_type": "execute_result"
    }
   ],
   "source": [
    "# in this case p will keep default value \n",
    "power(10, verbose=True)"
   ]
  },
  {
   "cell_type": "markdown",
   "metadata": {},
   "source": [
    "The only thing you cannot do is to pass positional arguments after keyword:"
   ]
  },
  {
   "cell_type": "code",
   "execution_count": 68,
   "metadata": {},
   "outputs": [
    {
     "ename": "SyntaxError",
     "evalue": "positional argument follows keyword argument (<ipython-input-68-88ea12f59210>, line 1)",
     "output_type": "error",
     "traceback": [
      "\u001b[0;36m  File \u001b[0;32m\"<ipython-input-68-88ea12f59210>\"\u001b[0;36m, line \u001b[0;32m1\u001b[0m\n\u001b[0;31m    power(verbose=True, 10)\u001b[0m\n\u001b[0m                       ^\u001b[0m\n\u001b[0;31mSyntaxError\u001b[0m\u001b[0;31m:\u001b[0m positional argument follows keyword argument\n"
     ]
    }
   ],
   "source": [
    "power(verbose=True, 10)"
   ]
  },
  {
   "cell_type": "markdown",
   "metadata": {},
   "source": [
    "The reasons it is impossible is logically sound: in that case it is ambiguios which argument you're trying to pass as a \"positional\" `10`."
   ]
  },
  {
   "cell_type": "markdown",
   "metadata": {},
   "source": [
    "### Function excapsulation"
   ]
  },
  {
   "cell_type": "markdown",
   "metadata": {},
   "source": [
    "**Pro-tip**: Python doesn't have complete encapsulation like some other languages. This means that while definitions from inside the function do not \"leak\" outside (just like I couldn't find variable `D` when I asked for it above), the definitions from **outside** can be freely used inside the functions even if we didn't specify them as inputs to the functions. Example:"
   ]
  },
  {
   "cell_type": "code",
   "execution_count": 69,
   "metadata": {},
   "outputs": [
    {
     "name": "stdout",
     "output_type": "stream",
     "text": [
      "this is input\n",
      "this is outside\n"
     ]
    },
    {
     "ename": "NameError",
     "evalue": "name 'local_variable' is not defined",
     "output_type": "error",
     "traceback": [
      "\u001b[0;31m---------------------------------------------------------------------------\u001b[0m",
      "\u001b[0;31mNameError\u001b[0m                                 Traceback (most recent call last)",
      "\u001b[0;32m<ipython-input-69-237054bf16cd>\u001b[0m in \u001b[0;36m<module>\u001b[0;34m()\u001b[0m\n\u001b[1;32m      9\u001b[0m \u001b[0mtest_function\u001b[0m\u001b[0;34m(\u001b[0m\u001b[0minput_variable\u001b[0m\u001b[0;34m)\u001b[0m\u001b[0;34m\u001b[0m\u001b[0m\n\u001b[1;32m     10\u001b[0m \u001b[0;34m\u001b[0m\u001b[0m\n\u001b[0;32m---> 11\u001b[0;31m \u001b[0mprint\u001b[0m\u001b[0;34m(\u001b[0m\u001b[0mlocal_variable\u001b[0m\u001b[0;34m)\u001b[0m\u001b[0;34m\u001b[0m\u001b[0m\n\u001b[0m",
      "\u001b[0;31mNameError\u001b[0m: name 'local_variable' is not defined"
     ]
    }
   ],
   "source": [
    "def test_function(x):\n",
    "    local_variable = 'this is local'\n",
    "    print(x)\n",
    "    print(outside_variable) # note that it is not part of the input!\n",
    "\n",
    "outside_variable = 'this is outside'\n",
    "input_variable = 'this is input'\n",
    "\n",
    "test_function(input_variable)\n",
    "\n",
    "print(local_variable)"
   ]
  },
  {
   "cell_type": "markdown",
   "metadata": {},
   "source": [
    "However, this is only true about functions you define in the same script (or notebook) as the one where you use it, like in our case. If you import a function from another place (we will learn how to do it in the next section), you have complete encapsulation. Which is why when you're building a complex script, it is **good practice** to keep your functions in a separate script and import them as needed."
   ]
  },
  {
   "cell_type": "code",
   "execution_count": null,
   "metadata": {
    "collapsed": true
   },
   "outputs": [],
   "source": []
  }
 ],
 "metadata": {
  "kernelspec": {
   "display_name": "Python 3.5",
   "language": "python",
   "name": "py35"
  },
  "language_info": {
   "codemirror_mode": {
    "name": "ipython",
    "version": 3
   },
   "file_extension": ".py",
   "mimetype": "text/x-python",
   "name": "python",
   "nbconvert_exporter": "python",
   "pygments_lexer": "ipython3",
   "version": "3.5.5"
  }
 },
 "nbformat": 4,
 "nbformat_minor": 2
}
